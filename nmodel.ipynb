{
 "metadata": {
  "language_info": {
   "codemirror_mode": {
    "name": "ipython",
    "version": 3
   },
   "file_extension": ".py",
   "mimetype": "text/x-python",
   "name": "python",
   "nbconvert_exporter": "python",
   "pygments_lexer": "ipython3",
   "version": "3.8.8-final"
  },
  "orig_nbformat": 2,
  "kernelspec": {
   "name": "python3",
   "display_name": "Python 3.8.8 64-bit",
   "metadata": {
    "interpreter": {
     "hash": "e85a1fbb45736d317bfd58c408b912ad377fdc9e9ba9d7c1e02079567841250d"
    }
   }
  }
 },
 "nbformat": 4,
 "nbformat_minor": 2,
 "cells": [
  {
   "cell_type": "code",
   "execution_count": 1,
   "metadata": {},
   "outputs": [],
   "source": [
    "import numpy as np\n",
    "import pandas as pd"
   ]
  },
  {
   "cell_type": "code",
   "execution_count": 2,
   "metadata": {},
   "outputs": [],
   "source": [
    "train=pd.read_csv(\"train_LZdllcl.csv\")\n",
    "test=pd.read_csv(\"test_2umaH9m.csv\")"
   ]
  },
  {
   "cell_type": "code",
   "execution_count": 3,
   "metadata": {},
   "outputs": [
    {
     "output_type": "execute_result",
     "data": {
      "text/plain": [
       "   employee_id         department     region         education gender  \\\n",
       "0        65438  Sales & Marketing   region_7  Master's & above      f   \n",
       "1        65141         Operations  region_22        Bachelor's      m   \n",
       "2         7513  Sales & Marketing  region_19        Bachelor's      m   \n",
       "3         2542  Sales & Marketing  region_23        Bachelor's      m   \n",
       "4        48945         Technology  region_26        Bachelor's      m   \n",
       "5        58896          Analytics   region_2        Bachelor's      m   \n",
       "6        20379         Operations  region_20        Bachelor's      f   \n",
       "7        16290         Operations  region_34  Master's & above      m   \n",
       "8        73202          Analytics  region_20        Bachelor's      m   \n",
       "9        28911  Sales & Marketing   region_1  Master's & above      m   \n",
       "\n",
       "  recruitment_channel  no_of_trainings  age  previous_year_rating  \\\n",
       "0            sourcing                1   35                   5.0   \n",
       "1               other                1   30                   5.0   \n",
       "2            sourcing                1   34                   3.0   \n",
       "3               other                2   39                   1.0   \n",
       "4               other                1   45                   3.0   \n",
       "5            sourcing                2   31                   3.0   \n",
       "6               other                1   31                   3.0   \n",
       "7            sourcing                1   33                   3.0   \n",
       "8               other                1   28                   4.0   \n",
       "9            sourcing                1   32                   5.0   \n",
       "\n",
       "   length_of_service  KPIs_met >80%  awards_won?  avg_training_score  \\\n",
       "0                  8              1            0                  49   \n",
       "1                  4              0            0                  60   \n",
       "2                  7              0            0                  50   \n",
       "3                 10              0            0                  50   \n",
       "4                  2              0            0                  73   \n",
       "5                  7              0            0                  85   \n",
       "6                  5              0            0                  59   \n",
       "7                  6              0            0                  63   \n",
       "8                  5              0            0                  83   \n",
       "9                  5              1            0                  54   \n",
       "\n",
       "   is_promoted  \n",
       "0            0  \n",
       "1            0  \n",
       "2            0  \n",
       "3            0  \n",
       "4            0  \n",
       "5            0  \n",
       "6            0  \n",
       "7            0  \n",
       "8            0  \n",
       "9            0  "
      ],
      "text/html": "<div>\n<style scoped>\n    .dataframe tbody tr th:only-of-type {\n        vertical-align: middle;\n    }\n\n    .dataframe tbody tr th {\n        vertical-align: top;\n    }\n\n    .dataframe thead th {\n        text-align: right;\n    }\n</style>\n<table border=\"1\" class=\"dataframe\">\n  <thead>\n    <tr style=\"text-align: right;\">\n      <th></th>\n      <th>employee_id</th>\n      <th>department</th>\n      <th>region</th>\n      <th>education</th>\n      <th>gender</th>\n      <th>recruitment_channel</th>\n      <th>no_of_trainings</th>\n      <th>age</th>\n      <th>previous_year_rating</th>\n      <th>length_of_service</th>\n      <th>KPIs_met &gt;80%</th>\n      <th>awards_won?</th>\n      <th>avg_training_score</th>\n      <th>is_promoted</th>\n    </tr>\n  </thead>\n  <tbody>\n    <tr>\n      <th>0</th>\n      <td>65438</td>\n      <td>Sales &amp; Marketing</td>\n      <td>region_7</td>\n      <td>Master's &amp; above</td>\n      <td>f</td>\n      <td>sourcing</td>\n      <td>1</td>\n      <td>35</td>\n      <td>5.0</td>\n      <td>8</td>\n      <td>1</td>\n      <td>0</td>\n      <td>49</td>\n      <td>0</td>\n    </tr>\n    <tr>\n      <th>1</th>\n      <td>65141</td>\n      <td>Operations</td>\n      <td>region_22</td>\n      <td>Bachelor's</td>\n      <td>m</td>\n      <td>other</td>\n      <td>1</td>\n      <td>30</td>\n      <td>5.0</td>\n      <td>4</td>\n      <td>0</td>\n      <td>0</td>\n      <td>60</td>\n      <td>0</td>\n    </tr>\n    <tr>\n      <th>2</th>\n      <td>7513</td>\n      <td>Sales &amp; Marketing</td>\n      <td>region_19</td>\n      <td>Bachelor's</td>\n      <td>m</td>\n      <td>sourcing</td>\n      <td>1</td>\n      <td>34</td>\n      <td>3.0</td>\n      <td>7</td>\n      <td>0</td>\n      <td>0</td>\n      <td>50</td>\n      <td>0</td>\n    </tr>\n    <tr>\n      <th>3</th>\n      <td>2542</td>\n      <td>Sales &amp; Marketing</td>\n      <td>region_23</td>\n      <td>Bachelor's</td>\n      <td>m</td>\n      <td>other</td>\n      <td>2</td>\n      <td>39</td>\n      <td>1.0</td>\n      <td>10</td>\n      <td>0</td>\n      <td>0</td>\n      <td>50</td>\n      <td>0</td>\n    </tr>\n    <tr>\n      <th>4</th>\n      <td>48945</td>\n      <td>Technology</td>\n      <td>region_26</td>\n      <td>Bachelor's</td>\n      <td>m</td>\n      <td>other</td>\n      <td>1</td>\n      <td>45</td>\n      <td>3.0</td>\n      <td>2</td>\n      <td>0</td>\n      <td>0</td>\n      <td>73</td>\n      <td>0</td>\n    </tr>\n    <tr>\n      <th>5</th>\n      <td>58896</td>\n      <td>Analytics</td>\n      <td>region_2</td>\n      <td>Bachelor's</td>\n      <td>m</td>\n      <td>sourcing</td>\n      <td>2</td>\n      <td>31</td>\n      <td>3.0</td>\n      <td>7</td>\n      <td>0</td>\n      <td>0</td>\n      <td>85</td>\n      <td>0</td>\n    </tr>\n    <tr>\n      <th>6</th>\n      <td>20379</td>\n      <td>Operations</td>\n      <td>region_20</td>\n      <td>Bachelor's</td>\n      <td>f</td>\n      <td>other</td>\n      <td>1</td>\n      <td>31</td>\n      <td>3.0</td>\n      <td>5</td>\n      <td>0</td>\n      <td>0</td>\n      <td>59</td>\n      <td>0</td>\n    </tr>\n    <tr>\n      <th>7</th>\n      <td>16290</td>\n      <td>Operations</td>\n      <td>region_34</td>\n      <td>Master's &amp; above</td>\n      <td>m</td>\n      <td>sourcing</td>\n      <td>1</td>\n      <td>33</td>\n      <td>3.0</td>\n      <td>6</td>\n      <td>0</td>\n      <td>0</td>\n      <td>63</td>\n      <td>0</td>\n    </tr>\n    <tr>\n      <th>8</th>\n      <td>73202</td>\n      <td>Analytics</td>\n      <td>region_20</td>\n      <td>Bachelor's</td>\n      <td>m</td>\n      <td>other</td>\n      <td>1</td>\n      <td>28</td>\n      <td>4.0</td>\n      <td>5</td>\n      <td>0</td>\n      <td>0</td>\n      <td>83</td>\n      <td>0</td>\n    </tr>\n    <tr>\n      <th>9</th>\n      <td>28911</td>\n      <td>Sales &amp; Marketing</td>\n      <td>region_1</td>\n      <td>Master's &amp; above</td>\n      <td>m</td>\n      <td>sourcing</td>\n      <td>1</td>\n      <td>32</td>\n      <td>5.0</td>\n      <td>5</td>\n      <td>1</td>\n      <td>0</td>\n      <td>54</td>\n      <td>0</td>\n    </tr>\n  </tbody>\n</table>\n</div>"
     },
     "metadata": {},
     "execution_count": 3
    }
   ],
   "source": [
    "train.head(10)"
   ]
  },
  {
   "cell_type": "code",
   "execution_count": 4,
   "metadata": {},
   "outputs": [
    {
     "output_type": "execute_result",
     "data": {
      "text/plain": [
       "   employee_id         department     region         education gender  \\\n",
       "0         8724         Technology  region_26        Bachelor's      m   \n",
       "1        74430                 HR   region_4        Bachelor's      f   \n",
       "2        72255  Sales & Marketing  region_13        Bachelor's      m   \n",
       "3        38562        Procurement   region_2        Bachelor's      f   \n",
       "4        64486            Finance  region_29        Bachelor's      m   \n",
       "5        46232        Procurement   region_7        Bachelor's      m   \n",
       "6        54542            Finance   region_2        Bachelor's      m   \n",
       "7        67269          Analytics  region_22        Bachelor's      m   \n",
       "8        66174         Technology   region_7  Master's & above      m   \n",
       "9        76303         Technology  region_22        Bachelor's      m   \n",
       "\n",
       "  recruitment_channel  no_of_trainings  age  previous_year_rating  \\\n",
       "0            sourcing                1   24                   NaN   \n",
       "1               other                1   31                   3.0   \n",
       "2               other                1   31                   1.0   \n",
       "3               other                3   31                   2.0   \n",
       "4            sourcing                1   30                   4.0   \n",
       "5            sourcing                1   36                   3.0   \n",
       "6               other                1   33                   5.0   \n",
       "7            sourcing                2   36                   3.0   \n",
       "8               other                1   51                   4.0   \n",
       "9            sourcing                1   29                   5.0   \n",
       "\n",
       "   length_of_service  KPIs_met >80%  awards_won?  avg_training_score  \n",
       "0                  1              1            0                  77  \n",
       "1                  5              0            0                  51  \n",
       "2                  4              0            0                  47  \n",
       "3                  9              0            0                  65  \n",
       "4                  7              0            0                  61  \n",
       "5                  2              0            0                  68  \n",
       "6                  3              1            0                  57  \n",
       "7                  3              0            0                  85  \n",
       "8                 11              0            0                  75  \n",
       "9                  2              1            0                  76  "
      ],
      "text/html": "<div>\n<style scoped>\n    .dataframe tbody tr th:only-of-type {\n        vertical-align: middle;\n    }\n\n    .dataframe tbody tr th {\n        vertical-align: top;\n    }\n\n    .dataframe thead th {\n        text-align: right;\n    }\n</style>\n<table border=\"1\" class=\"dataframe\">\n  <thead>\n    <tr style=\"text-align: right;\">\n      <th></th>\n      <th>employee_id</th>\n      <th>department</th>\n      <th>region</th>\n      <th>education</th>\n      <th>gender</th>\n      <th>recruitment_channel</th>\n      <th>no_of_trainings</th>\n      <th>age</th>\n      <th>previous_year_rating</th>\n      <th>length_of_service</th>\n      <th>KPIs_met &gt;80%</th>\n      <th>awards_won?</th>\n      <th>avg_training_score</th>\n    </tr>\n  </thead>\n  <tbody>\n    <tr>\n      <th>0</th>\n      <td>8724</td>\n      <td>Technology</td>\n      <td>region_26</td>\n      <td>Bachelor's</td>\n      <td>m</td>\n      <td>sourcing</td>\n      <td>1</td>\n      <td>24</td>\n      <td>NaN</td>\n      <td>1</td>\n      <td>1</td>\n      <td>0</td>\n      <td>77</td>\n    </tr>\n    <tr>\n      <th>1</th>\n      <td>74430</td>\n      <td>HR</td>\n      <td>region_4</td>\n      <td>Bachelor's</td>\n      <td>f</td>\n      <td>other</td>\n      <td>1</td>\n      <td>31</td>\n      <td>3.0</td>\n      <td>5</td>\n      <td>0</td>\n      <td>0</td>\n      <td>51</td>\n    </tr>\n    <tr>\n      <th>2</th>\n      <td>72255</td>\n      <td>Sales &amp; Marketing</td>\n      <td>region_13</td>\n      <td>Bachelor's</td>\n      <td>m</td>\n      <td>other</td>\n      <td>1</td>\n      <td>31</td>\n      <td>1.0</td>\n      <td>4</td>\n      <td>0</td>\n      <td>0</td>\n      <td>47</td>\n    </tr>\n    <tr>\n      <th>3</th>\n      <td>38562</td>\n      <td>Procurement</td>\n      <td>region_2</td>\n      <td>Bachelor's</td>\n      <td>f</td>\n      <td>other</td>\n      <td>3</td>\n      <td>31</td>\n      <td>2.0</td>\n      <td>9</td>\n      <td>0</td>\n      <td>0</td>\n      <td>65</td>\n    </tr>\n    <tr>\n      <th>4</th>\n      <td>64486</td>\n      <td>Finance</td>\n      <td>region_29</td>\n      <td>Bachelor's</td>\n      <td>m</td>\n      <td>sourcing</td>\n      <td>1</td>\n      <td>30</td>\n      <td>4.0</td>\n      <td>7</td>\n      <td>0</td>\n      <td>0</td>\n      <td>61</td>\n    </tr>\n    <tr>\n      <th>5</th>\n      <td>46232</td>\n      <td>Procurement</td>\n      <td>region_7</td>\n      <td>Bachelor's</td>\n      <td>m</td>\n      <td>sourcing</td>\n      <td>1</td>\n      <td>36</td>\n      <td>3.0</td>\n      <td>2</td>\n      <td>0</td>\n      <td>0</td>\n      <td>68</td>\n    </tr>\n    <tr>\n      <th>6</th>\n      <td>54542</td>\n      <td>Finance</td>\n      <td>region_2</td>\n      <td>Bachelor's</td>\n      <td>m</td>\n      <td>other</td>\n      <td>1</td>\n      <td>33</td>\n      <td>5.0</td>\n      <td>3</td>\n      <td>1</td>\n      <td>0</td>\n      <td>57</td>\n    </tr>\n    <tr>\n      <th>7</th>\n      <td>67269</td>\n      <td>Analytics</td>\n      <td>region_22</td>\n      <td>Bachelor's</td>\n      <td>m</td>\n      <td>sourcing</td>\n      <td>2</td>\n      <td>36</td>\n      <td>3.0</td>\n      <td>3</td>\n      <td>0</td>\n      <td>0</td>\n      <td>85</td>\n    </tr>\n    <tr>\n      <th>8</th>\n      <td>66174</td>\n      <td>Technology</td>\n      <td>region_7</td>\n      <td>Master's &amp; above</td>\n      <td>m</td>\n      <td>other</td>\n      <td>1</td>\n      <td>51</td>\n      <td>4.0</td>\n      <td>11</td>\n      <td>0</td>\n      <td>0</td>\n      <td>75</td>\n    </tr>\n    <tr>\n      <th>9</th>\n      <td>76303</td>\n      <td>Technology</td>\n      <td>region_22</td>\n      <td>Bachelor's</td>\n      <td>m</td>\n      <td>sourcing</td>\n      <td>1</td>\n      <td>29</td>\n      <td>5.0</td>\n      <td>2</td>\n      <td>1</td>\n      <td>0</td>\n      <td>76</td>\n    </tr>\n  </tbody>\n</table>\n</div>"
     },
     "metadata": {},
     "execution_count": 4
    }
   ],
   "source": [
    "test.head(10)\n"
   ]
  },
  {
   "cell_type": "code",
   "execution_count": 5,
   "metadata": {},
   "outputs": [
    {
     "output_type": "execute_result",
     "data": {
      "text/plain": [
       "((54808, 14), (23490, 13))"
      ]
     },
     "metadata": {},
     "execution_count": 5
    }
   ],
   "source": [
    "train.shape,test.shape\n"
   ]
  },
  {
   "cell_type": "code",
   "execution_count": 6,
   "metadata": {},
   "outputs": [
    {
     "output_type": "execute_result",
     "data": {
      "text/plain": [
       "['employee_id',\n",
       " 'department',\n",
       " 'region',\n",
       " 'education',\n",
       " 'gender',\n",
       " 'recruitment_channel',\n",
       " 'no_of_trainings',\n",
       " 'age',\n",
       " 'previous_year_rating',\n",
       " 'length_of_service',\n",
       " 'KPIs_met >80%',\n",
       " 'awards_won?',\n",
       " 'avg_training_score',\n",
       " 'is_promoted']"
      ]
     },
     "metadata": {},
     "execution_count": 6
    }
   ],
   "source": [
    "train.columns.tolist()\n"
   ]
  },
  {
   "cell_type": "code",
   "execution_count": 7,
   "metadata": {},
   "outputs": [
    {
     "output_type": "execute_result",
     "data": {
      "text/plain": [
       "['employee_id',\n",
       " 'department',\n",
       " 'region',\n",
       " 'education',\n",
       " 'gender',\n",
       " 'recruitment_channel',\n",
       " 'no_of_trainings',\n",
       " 'age',\n",
       " 'previous_year_rating',\n",
       " 'length_of_service',\n",
       " 'KPIs_met >80%',\n",
       " 'awards_won?',\n",
       " 'avg_training_score']"
      ]
     },
     "metadata": {},
     "execution_count": 7
    }
   ],
   "source": [
    "test.columns.tolist()"
   ]
  },
  {
   "cell_type": "code",
   "execution_count": 9,
   "metadata": {},
   "outputs": [
    {
     "output_type": "execute_result",
     "data": {
      "text/plain": [
       "((54808, 14), (23490, 13))"
      ]
     },
     "metadata": {},
     "execution_count": 9
    }
   ],
   "source": [
    "train.shape,test.shape"
   ]
  },
  {
   "cell_type": "code",
   "execution_count": 8,
   "metadata": {},
   "outputs": [
    {
     "output_type": "stream",
     "name": "stdout",
     "text": [
      "<class 'pandas.core.frame.DataFrame'>\nRangeIndex: 54808 entries, 0 to 54807\nData columns (total 14 columns):\n #   Column                Non-Null Count  Dtype  \n---  ------                --------------  -----  \n 0   employee_id           54808 non-null  int64  \n 1   department            54808 non-null  object \n 2   region                54808 non-null  object \n 3   education             52399 non-null  object \n 4   gender                54808 non-null  object \n 5   recruitment_channel   54808 non-null  object \n 6   no_of_trainings       54808 non-null  int64  \n 7   age                   54808 non-null  int64  \n 8   previous_year_rating  50684 non-null  float64\n 9   length_of_service     54808 non-null  int64  \n 10  KPIs_met >80%         54808 non-null  int64  \n 11  awards_won?           54808 non-null  int64  \n 12  avg_training_score    54808 non-null  int64  \n 13  is_promoted           54808 non-null  int64  \ndtypes: float64(1), int64(8), object(5)\nmemory usage: 5.9+ MB\n"
     ]
    }
   ],
   "source": [
    "train.info()"
   ]
  },
  {
   "cell_type": "code",
   "execution_count": 10,
   "metadata": {},
   "outputs": [],
   "source": [
    "k=int(train['previous_year_rating'].mean())\n",
    "train['previous_year_rating'].fillna(value=k,inplace=True)\n",
    "m=int(test['previous_year_rating'].mean())\n",
    "test['previous_year_rating'].fillna(value=m,inplace=True)"
   ]
  },
  {
   "cell_type": "code",
   "execution_count": 12,
   "metadata": {},
   "outputs": [],
   "source": [
    "train[\"education\"].fillna(value=\"Not Available\",inplace=True)\n",
    "test[\"education\"].fillna(value=\"Not Available\",inplace=True)\n"
   ]
  },
  {
   "cell_type": "code",
   "execution_count": 13,
   "metadata": {},
   "outputs": [
    {
     "output_type": "execute_result",
     "data": {
      "text/plain": [
       "         employee_id         department    region   education gender  \\\n",
       "count   54808.000000              54808     54808       54808  54808   \n",
       "unique           NaN                  9        34           4      2   \n",
       "top              NaN  Sales & Marketing  region_2  Bachelor's      m   \n",
       "freq             NaN              16840     12343       36669  38496   \n",
       "mean    39195.830627                NaN       NaN         NaN    NaN   \n",
       "std     22586.581449                NaN       NaN         NaN    NaN   \n",
       "min         1.000000                NaN       NaN         NaN    NaN   \n",
       "25%     19669.750000                NaN       NaN         NaN    NaN   \n",
       "50%     39225.500000                NaN       NaN         NaN    NaN   \n",
       "75%     58730.500000                NaN       NaN         NaN    NaN   \n",
       "max     78298.000000                NaN       NaN         NaN    NaN   \n",
       "\n",
       "       recruitment_channel  no_of_trainings           age  \\\n",
       "count                54808     54808.000000  54808.000000   \n",
       "unique                   3              NaN           NaN   \n",
       "top                  other              NaN           NaN   \n",
       "freq                 30446              NaN           NaN   \n",
       "mean                   NaN         1.253011     34.803915   \n",
       "std                    NaN         0.609264      7.660169   \n",
       "min                    NaN         1.000000     20.000000   \n",
       "25%                    NaN         1.000000     29.000000   \n",
       "50%                    NaN         1.000000     33.000000   \n",
       "75%                    NaN         1.000000     39.000000   \n",
       "max                    NaN        10.000000     60.000000   \n",
       "\n",
       "        previous_year_rating  length_of_service  KPIs_met >80%   awards_won?  \\\n",
       "count           54808.000000       54808.000000   54808.000000  54808.000000   \n",
       "unique                   NaN                NaN            NaN           NaN   \n",
       "top                      NaN                NaN            NaN           NaN   \n",
       "freq                     NaN                NaN            NaN           NaN   \n",
       "mean                3.304481           5.865512       0.351974      0.023172   \n",
       "std                 1.214770           4.265094       0.477590      0.150450   \n",
       "min                 1.000000           1.000000       0.000000      0.000000   \n",
       "25%                 3.000000           3.000000       0.000000      0.000000   \n",
       "50%                 3.000000           5.000000       0.000000      0.000000   \n",
       "75%                 4.000000           7.000000       1.000000      0.000000   \n",
       "max                 5.000000          37.000000       1.000000      1.000000   \n",
       "\n",
       "        avg_training_score   is_promoted  \n",
       "count         54808.000000  54808.000000  \n",
       "unique                 NaN           NaN  \n",
       "top                    NaN           NaN  \n",
       "freq                   NaN           NaN  \n",
       "mean             63.386750      0.085170  \n",
       "std              13.371559      0.279137  \n",
       "min              39.000000      0.000000  \n",
       "25%              51.000000      0.000000  \n",
       "50%              60.000000      0.000000  \n",
       "75%              76.000000      0.000000  \n",
       "max              99.000000      1.000000  "
      ],
      "text/html": "<div>\n<style scoped>\n    .dataframe tbody tr th:only-of-type {\n        vertical-align: middle;\n    }\n\n    .dataframe tbody tr th {\n        vertical-align: top;\n    }\n\n    .dataframe thead th {\n        text-align: right;\n    }\n</style>\n<table border=\"1\" class=\"dataframe\">\n  <thead>\n    <tr style=\"text-align: right;\">\n      <th></th>\n      <th>employee_id</th>\n      <th>department</th>\n      <th>region</th>\n      <th>education</th>\n      <th>gender</th>\n      <th>recruitment_channel</th>\n      <th>no_of_trainings</th>\n      <th>age</th>\n      <th>previous_year_rating</th>\n      <th>length_of_service</th>\n      <th>KPIs_met &gt;80%</th>\n      <th>awards_won?</th>\n      <th>avg_training_score</th>\n      <th>is_promoted</th>\n    </tr>\n  </thead>\n  <tbody>\n    <tr>\n      <th>count</th>\n      <td>54808.000000</td>\n      <td>54808</td>\n      <td>54808</td>\n      <td>54808</td>\n      <td>54808</td>\n      <td>54808</td>\n      <td>54808.000000</td>\n      <td>54808.000000</td>\n      <td>54808.000000</td>\n      <td>54808.000000</td>\n      <td>54808.000000</td>\n      <td>54808.000000</td>\n      <td>54808.000000</td>\n      <td>54808.000000</td>\n    </tr>\n    <tr>\n      <th>unique</th>\n      <td>NaN</td>\n      <td>9</td>\n      <td>34</td>\n      <td>4</td>\n      <td>2</td>\n      <td>3</td>\n      <td>NaN</td>\n      <td>NaN</td>\n      <td>NaN</td>\n      <td>NaN</td>\n      <td>NaN</td>\n      <td>NaN</td>\n      <td>NaN</td>\n      <td>NaN</td>\n    </tr>\n    <tr>\n      <th>top</th>\n      <td>NaN</td>\n      <td>Sales &amp; Marketing</td>\n      <td>region_2</td>\n      <td>Bachelor's</td>\n      <td>m</td>\n      <td>other</td>\n      <td>NaN</td>\n      <td>NaN</td>\n      <td>NaN</td>\n      <td>NaN</td>\n      <td>NaN</td>\n      <td>NaN</td>\n      <td>NaN</td>\n      <td>NaN</td>\n    </tr>\n    <tr>\n      <th>freq</th>\n      <td>NaN</td>\n      <td>16840</td>\n      <td>12343</td>\n      <td>36669</td>\n      <td>38496</td>\n      <td>30446</td>\n      <td>NaN</td>\n      <td>NaN</td>\n      <td>NaN</td>\n      <td>NaN</td>\n      <td>NaN</td>\n      <td>NaN</td>\n      <td>NaN</td>\n      <td>NaN</td>\n    </tr>\n    <tr>\n      <th>mean</th>\n      <td>39195.830627</td>\n      <td>NaN</td>\n      <td>NaN</td>\n      <td>NaN</td>\n      <td>NaN</td>\n      <td>NaN</td>\n      <td>1.253011</td>\n      <td>34.803915</td>\n      <td>3.304481</td>\n      <td>5.865512</td>\n      <td>0.351974</td>\n      <td>0.023172</td>\n      <td>63.386750</td>\n      <td>0.085170</td>\n    </tr>\n    <tr>\n      <th>std</th>\n      <td>22586.581449</td>\n      <td>NaN</td>\n      <td>NaN</td>\n      <td>NaN</td>\n      <td>NaN</td>\n      <td>NaN</td>\n      <td>0.609264</td>\n      <td>7.660169</td>\n      <td>1.214770</td>\n      <td>4.265094</td>\n      <td>0.477590</td>\n      <td>0.150450</td>\n      <td>13.371559</td>\n      <td>0.279137</td>\n    </tr>\n    <tr>\n      <th>min</th>\n      <td>1.000000</td>\n      <td>NaN</td>\n      <td>NaN</td>\n      <td>NaN</td>\n      <td>NaN</td>\n      <td>NaN</td>\n      <td>1.000000</td>\n      <td>20.000000</td>\n      <td>1.000000</td>\n      <td>1.000000</td>\n      <td>0.000000</td>\n      <td>0.000000</td>\n      <td>39.000000</td>\n      <td>0.000000</td>\n    </tr>\n    <tr>\n      <th>25%</th>\n      <td>19669.750000</td>\n      <td>NaN</td>\n      <td>NaN</td>\n      <td>NaN</td>\n      <td>NaN</td>\n      <td>NaN</td>\n      <td>1.000000</td>\n      <td>29.000000</td>\n      <td>3.000000</td>\n      <td>3.000000</td>\n      <td>0.000000</td>\n      <td>0.000000</td>\n      <td>51.000000</td>\n      <td>0.000000</td>\n    </tr>\n    <tr>\n      <th>50%</th>\n      <td>39225.500000</td>\n      <td>NaN</td>\n      <td>NaN</td>\n      <td>NaN</td>\n      <td>NaN</td>\n      <td>NaN</td>\n      <td>1.000000</td>\n      <td>33.000000</td>\n      <td>3.000000</td>\n      <td>5.000000</td>\n      <td>0.000000</td>\n      <td>0.000000</td>\n      <td>60.000000</td>\n      <td>0.000000</td>\n    </tr>\n    <tr>\n      <th>75%</th>\n      <td>58730.500000</td>\n      <td>NaN</td>\n      <td>NaN</td>\n      <td>NaN</td>\n      <td>NaN</td>\n      <td>NaN</td>\n      <td>1.000000</td>\n      <td>39.000000</td>\n      <td>4.000000</td>\n      <td>7.000000</td>\n      <td>1.000000</td>\n      <td>0.000000</td>\n      <td>76.000000</td>\n      <td>0.000000</td>\n    </tr>\n    <tr>\n      <th>max</th>\n      <td>78298.000000</td>\n      <td>NaN</td>\n      <td>NaN</td>\n      <td>NaN</td>\n      <td>NaN</td>\n      <td>NaN</td>\n      <td>10.000000</td>\n      <td>60.000000</td>\n      <td>5.000000</td>\n      <td>37.000000</td>\n      <td>1.000000</td>\n      <td>1.000000</td>\n      <td>99.000000</td>\n      <td>1.000000</td>\n    </tr>\n  </tbody>\n</table>\n</div>"
     },
     "metadata": {},
     "execution_count": 13
    }
   ],
   "source": [
    "train.describe(include=\"all\")"
   ]
  },
  {
   "cell_type": "code",
   "execution_count": 14,
   "metadata": {},
   "outputs": [
    {
     "output_type": "execute_result",
     "data": {
      "text/plain": [
       "         employee_id         department    region   education gender  \\\n",
       "count   23490.000000              23490     23490       23490  23490   \n",
       "unique           NaN                  9        34           4      2   \n",
       "top              NaN  Sales & Marketing  region_2  Bachelor's      m   \n",
       "freq             NaN               7315      5299       15578  16596   \n",
       "mean    39041.399149                NaN       NaN         NaN    NaN   \n",
       "std     22640.809201                NaN       NaN         NaN    NaN   \n",
       "min         3.000000                NaN       NaN         NaN    NaN   \n",
       "25%     19370.250000                NaN       NaN         NaN    NaN   \n",
       "50%     38963.500000                NaN       NaN         NaN    NaN   \n",
       "75%     58690.000000                NaN       NaN         NaN    NaN   \n",
       "max     78295.000000                NaN       NaN         NaN    NaN   \n",
       "\n",
       "       recruitment_channel  no_of_trainings           age  \\\n",
       "count                23490     23490.000000  23490.000000   \n",
       "unique                   3              NaN           NaN   \n",
       "top                  other              NaN           NaN   \n",
       "freq                 13078              NaN           NaN   \n",
       "mean                   NaN         1.254236     34.782929   \n",
       "std                    NaN         0.600910      7.679492   \n",
       "min                    NaN         1.000000     20.000000   \n",
       "25%                    NaN         1.000000     29.000000   \n",
       "50%                    NaN         1.000000     33.000000   \n",
       "75%                    NaN         1.000000     39.000000   \n",
       "max                    NaN         9.000000     60.000000   \n",
       "\n",
       "        previous_year_rating  length_of_service  KPIs_met >80%   awards_won?  \\\n",
       "count           23490.000000       23490.000000   23490.000000  23490.000000   \n",
       "unique                   NaN                NaN            NaN           NaN   \n",
       "top                      NaN                NaN            NaN           NaN   \n",
       "freq                     NaN                NaN            NaN           NaN   \n",
       "mean                3.312984           5.810387       0.358834      0.022776   \n",
       "std                 1.216959           4.207917       0.479668      0.149191   \n",
       "min                 1.000000           1.000000       0.000000      0.000000   \n",
       "25%                 3.000000           3.000000       0.000000      0.000000   \n",
       "50%                 3.000000           5.000000       0.000000      0.000000   \n",
       "75%                 4.000000           7.000000       1.000000      0.000000   \n",
       "max                 5.000000          34.000000       1.000000      1.000000   \n",
       "\n",
       "        avg_training_score  \n",
       "count         23490.000000  \n",
       "unique                 NaN  \n",
       "top                    NaN  \n",
       "freq                   NaN  \n",
       "mean             63.263133  \n",
       "std              13.411750  \n",
       "min              39.000000  \n",
       "25%              51.000000  \n",
       "50%              60.000000  \n",
       "75%              76.000000  \n",
       "max              99.000000  "
      ],
      "text/html": "<div>\n<style scoped>\n    .dataframe tbody tr th:only-of-type {\n        vertical-align: middle;\n    }\n\n    .dataframe tbody tr th {\n        vertical-align: top;\n    }\n\n    .dataframe thead th {\n        text-align: right;\n    }\n</style>\n<table border=\"1\" class=\"dataframe\">\n  <thead>\n    <tr style=\"text-align: right;\">\n      <th></th>\n      <th>employee_id</th>\n      <th>department</th>\n      <th>region</th>\n      <th>education</th>\n      <th>gender</th>\n      <th>recruitment_channel</th>\n      <th>no_of_trainings</th>\n      <th>age</th>\n      <th>previous_year_rating</th>\n      <th>length_of_service</th>\n      <th>KPIs_met &gt;80%</th>\n      <th>awards_won?</th>\n      <th>avg_training_score</th>\n    </tr>\n  </thead>\n  <tbody>\n    <tr>\n      <th>count</th>\n      <td>23490.000000</td>\n      <td>23490</td>\n      <td>23490</td>\n      <td>23490</td>\n      <td>23490</td>\n      <td>23490</td>\n      <td>23490.000000</td>\n      <td>23490.000000</td>\n      <td>23490.000000</td>\n      <td>23490.000000</td>\n      <td>23490.000000</td>\n      <td>23490.000000</td>\n      <td>23490.000000</td>\n    </tr>\n    <tr>\n      <th>unique</th>\n      <td>NaN</td>\n      <td>9</td>\n      <td>34</td>\n      <td>4</td>\n      <td>2</td>\n      <td>3</td>\n      <td>NaN</td>\n      <td>NaN</td>\n      <td>NaN</td>\n      <td>NaN</td>\n      <td>NaN</td>\n      <td>NaN</td>\n      <td>NaN</td>\n    </tr>\n    <tr>\n      <th>top</th>\n      <td>NaN</td>\n      <td>Sales &amp; Marketing</td>\n      <td>region_2</td>\n      <td>Bachelor's</td>\n      <td>m</td>\n      <td>other</td>\n      <td>NaN</td>\n      <td>NaN</td>\n      <td>NaN</td>\n      <td>NaN</td>\n      <td>NaN</td>\n      <td>NaN</td>\n      <td>NaN</td>\n    </tr>\n    <tr>\n      <th>freq</th>\n      <td>NaN</td>\n      <td>7315</td>\n      <td>5299</td>\n      <td>15578</td>\n      <td>16596</td>\n      <td>13078</td>\n      <td>NaN</td>\n      <td>NaN</td>\n      <td>NaN</td>\n      <td>NaN</td>\n      <td>NaN</td>\n      <td>NaN</td>\n      <td>NaN</td>\n    </tr>\n    <tr>\n      <th>mean</th>\n      <td>39041.399149</td>\n      <td>NaN</td>\n      <td>NaN</td>\n      <td>NaN</td>\n      <td>NaN</td>\n      <td>NaN</td>\n      <td>1.254236</td>\n      <td>34.782929</td>\n      <td>3.312984</td>\n      <td>5.810387</td>\n      <td>0.358834</td>\n      <td>0.022776</td>\n      <td>63.263133</td>\n    </tr>\n    <tr>\n      <th>std</th>\n      <td>22640.809201</td>\n      <td>NaN</td>\n      <td>NaN</td>\n      <td>NaN</td>\n      <td>NaN</td>\n      <td>NaN</td>\n      <td>0.600910</td>\n      <td>7.679492</td>\n      <td>1.216959</td>\n      <td>4.207917</td>\n      <td>0.479668</td>\n      <td>0.149191</td>\n      <td>13.411750</td>\n    </tr>\n    <tr>\n      <th>min</th>\n      <td>3.000000</td>\n      <td>NaN</td>\n      <td>NaN</td>\n      <td>NaN</td>\n      <td>NaN</td>\n      <td>NaN</td>\n      <td>1.000000</td>\n      <td>20.000000</td>\n      <td>1.000000</td>\n      <td>1.000000</td>\n      <td>0.000000</td>\n      <td>0.000000</td>\n      <td>39.000000</td>\n    </tr>\n    <tr>\n      <th>25%</th>\n      <td>19370.250000</td>\n      <td>NaN</td>\n      <td>NaN</td>\n      <td>NaN</td>\n      <td>NaN</td>\n      <td>NaN</td>\n      <td>1.000000</td>\n      <td>29.000000</td>\n      <td>3.000000</td>\n      <td>3.000000</td>\n      <td>0.000000</td>\n      <td>0.000000</td>\n      <td>51.000000</td>\n    </tr>\n    <tr>\n      <th>50%</th>\n      <td>38963.500000</td>\n      <td>NaN</td>\n      <td>NaN</td>\n      <td>NaN</td>\n      <td>NaN</td>\n      <td>NaN</td>\n      <td>1.000000</td>\n      <td>33.000000</td>\n      <td>3.000000</td>\n      <td>5.000000</td>\n      <td>0.000000</td>\n      <td>0.000000</td>\n      <td>60.000000</td>\n    </tr>\n    <tr>\n      <th>75%</th>\n      <td>58690.000000</td>\n      <td>NaN</td>\n      <td>NaN</td>\n      <td>NaN</td>\n      <td>NaN</td>\n      <td>NaN</td>\n      <td>1.000000</td>\n      <td>39.000000</td>\n      <td>4.000000</td>\n      <td>7.000000</td>\n      <td>1.000000</td>\n      <td>0.000000</td>\n      <td>76.000000</td>\n    </tr>\n    <tr>\n      <th>max</th>\n      <td>78295.000000</td>\n      <td>NaN</td>\n      <td>NaN</td>\n      <td>NaN</td>\n      <td>NaN</td>\n      <td>NaN</td>\n      <td>9.000000</td>\n      <td>60.000000</td>\n      <td>5.000000</td>\n      <td>34.000000</td>\n      <td>1.000000</td>\n      <td>1.000000</td>\n      <td>99.000000</td>\n    </tr>\n  </tbody>\n</table>\n</div>"
     },
     "metadata": {},
     "execution_count": 14
    }
   ],
   "source": [
    "test.describe(include=\"all\")"
   ]
  },
  {
   "cell_type": "code",
   "execution_count": 15,
   "metadata": {},
   "outputs": [],
   "source": [
    "train.set_index(\"employee_id\",inplace=True)\n",
    "test.set_index(\"employee_id\",inplace=True)\n"
   ]
  },
  {
   "cell_type": "code",
   "execution_count": 18,
   "metadata": {},
   "outputs": [
    {
     "output_type": "execute_result",
     "data": {
      "text/plain": [
       "                    department     region         education gender  \\\n",
       "employee_id                                                          \n",
       "65438        Sales & Marketing   region_7  Master's & above      f   \n",
       "65141               Operations  region_22        Bachelor's      m   \n",
       "7513         Sales & Marketing  region_19        Bachelor's      m   \n",
       "2542         Sales & Marketing  region_23        Bachelor's      m   \n",
       "48945               Technology  region_26        Bachelor's      m   \n",
       "\n",
       "            recruitment_channel  no_of_trainings  age  previous_year_rating  \\\n",
       "employee_id                                                                   \n",
       "65438                  sourcing                1   35                   5.0   \n",
       "65141                     other                1   30                   5.0   \n",
       "7513                   sourcing                1   34                   3.0   \n",
       "2542                      other                2   39                   1.0   \n",
       "48945                     other                1   45                   3.0   \n",
       "\n",
       "             length_of_service  KPIs_met >80%  awards_won?  \\\n",
       "employee_id                                                  \n",
       "65438                        8              1            0   \n",
       "65141                        4              0            0   \n",
       "7513                         7              0            0   \n",
       "2542                        10              0            0   \n",
       "48945                        2              0            0   \n",
       "\n",
       "             avg_training_score  is_promoted  \n",
       "employee_id                                   \n",
       "65438                        49            0  \n",
       "65141                        60            0  \n",
       "7513                         50            0  \n",
       "2542                         50            0  \n",
       "48945                        73            0  "
      ],
      "text/html": "<div>\n<style scoped>\n    .dataframe tbody tr th:only-of-type {\n        vertical-align: middle;\n    }\n\n    .dataframe tbody tr th {\n        vertical-align: top;\n    }\n\n    .dataframe thead th {\n        text-align: right;\n    }\n</style>\n<table border=\"1\" class=\"dataframe\">\n  <thead>\n    <tr style=\"text-align: right;\">\n      <th></th>\n      <th>department</th>\n      <th>region</th>\n      <th>education</th>\n      <th>gender</th>\n      <th>recruitment_channel</th>\n      <th>no_of_trainings</th>\n      <th>age</th>\n      <th>previous_year_rating</th>\n      <th>length_of_service</th>\n      <th>KPIs_met &gt;80%</th>\n      <th>awards_won?</th>\n      <th>avg_training_score</th>\n      <th>is_promoted</th>\n    </tr>\n    <tr>\n      <th>employee_id</th>\n      <th></th>\n      <th></th>\n      <th></th>\n      <th></th>\n      <th></th>\n      <th></th>\n      <th></th>\n      <th></th>\n      <th></th>\n      <th></th>\n      <th></th>\n      <th></th>\n      <th></th>\n    </tr>\n  </thead>\n  <tbody>\n    <tr>\n      <th>65438</th>\n      <td>Sales &amp; Marketing</td>\n      <td>region_7</td>\n      <td>Master's &amp; above</td>\n      <td>f</td>\n      <td>sourcing</td>\n      <td>1</td>\n      <td>35</td>\n      <td>5.0</td>\n      <td>8</td>\n      <td>1</td>\n      <td>0</td>\n      <td>49</td>\n      <td>0</td>\n    </tr>\n    <tr>\n      <th>65141</th>\n      <td>Operations</td>\n      <td>region_22</td>\n      <td>Bachelor's</td>\n      <td>m</td>\n      <td>other</td>\n      <td>1</td>\n      <td>30</td>\n      <td>5.0</td>\n      <td>4</td>\n      <td>0</td>\n      <td>0</td>\n      <td>60</td>\n      <td>0</td>\n    </tr>\n    <tr>\n      <th>7513</th>\n      <td>Sales &amp; Marketing</td>\n      <td>region_19</td>\n      <td>Bachelor's</td>\n      <td>m</td>\n      <td>sourcing</td>\n      <td>1</td>\n      <td>34</td>\n      <td>3.0</td>\n      <td>7</td>\n      <td>0</td>\n      <td>0</td>\n      <td>50</td>\n      <td>0</td>\n    </tr>\n    <tr>\n      <th>2542</th>\n      <td>Sales &amp; Marketing</td>\n      <td>region_23</td>\n      <td>Bachelor's</td>\n      <td>m</td>\n      <td>other</td>\n      <td>2</td>\n      <td>39</td>\n      <td>1.0</td>\n      <td>10</td>\n      <td>0</td>\n      <td>0</td>\n      <td>50</td>\n      <td>0</td>\n    </tr>\n    <tr>\n      <th>48945</th>\n      <td>Technology</td>\n      <td>region_26</td>\n      <td>Bachelor's</td>\n      <td>m</td>\n      <td>other</td>\n      <td>1</td>\n      <td>45</td>\n      <td>3.0</td>\n      <td>2</td>\n      <td>0</td>\n      <td>0</td>\n      <td>73</td>\n      <td>0</td>\n    </tr>\n  </tbody>\n</table>\n</div>"
     },
     "metadata": {},
     "execution_count": 18
    }
   ],
   "source": [
    "train.head()"
   ]
  },
  {
   "cell_type": "code",
   "execution_count": 19,
   "metadata": {},
   "outputs": [
    {
     "output_type": "execute_result",
     "data": {
      "text/plain": [
       "                    department     region   education gender  \\\n",
       "employee_id                                                    \n",
       "8724                Technology  region_26  Bachelor's      m   \n",
       "74430                       HR   region_4  Bachelor's      f   \n",
       "72255        Sales & Marketing  region_13  Bachelor's      m   \n",
       "38562              Procurement   region_2  Bachelor's      f   \n",
       "64486                  Finance  region_29  Bachelor's      m   \n",
       "\n",
       "            recruitment_channel  no_of_trainings  age  previous_year_rating  \\\n",
       "employee_id                                                                   \n",
       "8724                   sourcing                1   24                   3.0   \n",
       "74430                     other                1   31                   3.0   \n",
       "72255                     other                1   31                   1.0   \n",
       "38562                     other                3   31                   2.0   \n",
       "64486                  sourcing                1   30                   4.0   \n",
       "\n",
       "             length_of_service  KPIs_met >80%  awards_won?  avg_training_score  \n",
       "employee_id                                                                     \n",
       "8724                         1              1            0                  77  \n",
       "74430                        5              0            0                  51  \n",
       "72255                        4              0            0                  47  \n",
       "38562                        9              0            0                  65  \n",
       "64486                        7              0            0                  61  "
      ],
      "text/html": "<div>\n<style scoped>\n    .dataframe tbody tr th:only-of-type {\n        vertical-align: middle;\n    }\n\n    .dataframe tbody tr th {\n        vertical-align: top;\n    }\n\n    .dataframe thead th {\n        text-align: right;\n    }\n</style>\n<table border=\"1\" class=\"dataframe\">\n  <thead>\n    <tr style=\"text-align: right;\">\n      <th></th>\n      <th>department</th>\n      <th>region</th>\n      <th>education</th>\n      <th>gender</th>\n      <th>recruitment_channel</th>\n      <th>no_of_trainings</th>\n      <th>age</th>\n      <th>previous_year_rating</th>\n      <th>length_of_service</th>\n      <th>KPIs_met &gt;80%</th>\n      <th>awards_won?</th>\n      <th>avg_training_score</th>\n    </tr>\n    <tr>\n      <th>employee_id</th>\n      <th></th>\n      <th></th>\n      <th></th>\n      <th></th>\n      <th></th>\n      <th></th>\n      <th></th>\n      <th></th>\n      <th></th>\n      <th></th>\n      <th></th>\n      <th></th>\n    </tr>\n  </thead>\n  <tbody>\n    <tr>\n      <th>8724</th>\n      <td>Technology</td>\n      <td>region_26</td>\n      <td>Bachelor's</td>\n      <td>m</td>\n      <td>sourcing</td>\n      <td>1</td>\n      <td>24</td>\n      <td>3.0</td>\n      <td>1</td>\n      <td>1</td>\n      <td>0</td>\n      <td>77</td>\n    </tr>\n    <tr>\n      <th>74430</th>\n      <td>HR</td>\n      <td>region_4</td>\n      <td>Bachelor's</td>\n      <td>f</td>\n      <td>other</td>\n      <td>1</td>\n      <td>31</td>\n      <td>3.0</td>\n      <td>5</td>\n      <td>0</td>\n      <td>0</td>\n      <td>51</td>\n    </tr>\n    <tr>\n      <th>72255</th>\n      <td>Sales &amp; Marketing</td>\n      <td>region_13</td>\n      <td>Bachelor's</td>\n      <td>m</td>\n      <td>other</td>\n      <td>1</td>\n      <td>31</td>\n      <td>1.0</td>\n      <td>4</td>\n      <td>0</td>\n      <td>0</td>\n      <td>47</td>\n    </tr>\n    <tr>\n      <th>38562</th>\n      <td>Procurement</td>\n      <td>region_2</td>\n      <td>Bachelor's</td>\n      <td>f</td>\n      <td>other</td>\n      <td>3</td>\n      <td>31</td>\n      <td>2.0</td>\n      <td>9</td>\n      <td>0</td>\n      <td>0</td>\n      <td>65</td>\n    </tr>\n    <tr>\n      <th>64486</th>\n      <td>Finance</td>\n      <td>region_29</td>\n      <td>Bachelor's</td>\n      <td>m</td>\n      <td>sourcing</td>\n      <td>1</td>\n      <td>30</td>\n      <td>4.0</td>\n      <td>7</td>\n      <td>0</td>\n      <td>0</td>\n      <td>61</td>\n    </tr>\n  </tbody>\n</table>\n</div>"
     },
     "metadata": {},
     "execution_count": 19
    }
   ],
   "source": [
    "test.head()"
   ]
  },
  {
   "cell_type": "code",
   "execution_count": 23,
   "metadata": {},
   "outputs": [
    {
     "output_type": "execute_result",
     "data": {
      "text/plain": [
       "                     count      mean       std  min  25%  50%  75%   max\n",
       "department                                                              \n",
       "Analytics           5352.0  1.337818  0.587229  1.0  1.0  1.0  2.0   4.0\n",
       "Finance             2536.0  1.304022  0.605888  1.0  1.0  1.0  1.0   5.0\n",
       "HR                  2418.0  1.053763  0.232817  1.0  1.0  1.0  1.0   3.0\n",
       "Legal               1039.0  1.089509  0.383518  1.0  1.0  1.0  1.0   3.0\n",
       "Operations         11348.0  1.160821  0.427888  1.0  1.0  1.0  1.0   5.0\n",
       "Procurement         7138.0  1.322779  0.793726  1.0  1.0  1.0  1.0  10.0\n",
       "R&D                  999.0  1.402402  0.700869  1.0  1.0  1.0  2.0   5.0\n",
       "Sales & Marketing  16840.0  1.277435  0.660753  1.0  1.0  1.0  1.0  10.0\n",
       "Technology          7138.0  1.260857  0.596130  1.0  1.0  1.0  1.0   7.0"
      ],
      "text/html": "<div>\n<style scoped>\n    .dataframe tbody tr th:only-of-type {\n        vertical-align: middle;\n    }\n\n    .dataframe tbody tr th {\n        vertical-align: top;\n    }\n\n    .dataframe thead th {\n        text-align: right;\n    }\n</style>\n<table border=\"1\" class=\"dataframe\">\n  <thead>\n    <tr style=\"text-align: right;\">\n      <th></th>\n      <th>count</th>\n      <th>mean</th>\n      <th>std</th>\n      <th>min</th>\n      <th>25%</th>\n      <th>50%</th>\n      <th>75%</th>\n      <th>max</th>\n    </tr>\n    <tr>\n      <th>department</th>\n      <th></th>\n      <th></th>\n      <th></th>\n      <th></th>\n      <th></th>\n      <th></th>\n      <th></th>\n      <th></th>\n    </tr>\n  </thead>\n  <tbody>\n    <tr>\n      <th>Analytics</th>\n      <td>5352.0</td>\n      <td>1.337818</td>\n      <td>0.587229</td>\n      <td>1.0</td>\n      <td>1.0</td>\n      <td>1.0</td>\n      <td>2.0</td>\n      <td>4.0</td>\n    </tr>\n    <tr>\n      <th>Finance</th>\n      <td>2536.0</td>\n      <td>1.304022</td>\n      <td>0.605888</td>\n      <td>1.0</td>\n      <td>1.0</td>\n      <td>1.0</td>\n      <td>1.0</td>\n      <td>5.0</td>\n    </tr>\n    <tr>\n      <th>HR</th>\n      <td>2418.0</td>\n      <td>1.053763</td>\n      <td>0.232817</td>\n      <td>1.0</td>\n      <td>1.0</td>\n      <td>1.0</td>\n      <td>1.0</td>\n      <td>3.0</td>\n    </tr>\n    <tr>\n      <th>Legal</th>\n      <td>1039.0</td>\n      <td>1.089509</td>\n      <td>0.383518</td>\n      <td>1.0</td>\n      <td>1.0</td>\n      <td>1.0</td>\n      <td>1.0</td>\n      <td>3.0</td>\n    </tr>\n    <tr>\n      <th>Operations</th>\n      <td>11348.0</td>\n      <td>1.160821</td>\n      <td>0.427888</td>\n      <td>1.0</td>\n      <td>1.0</td>\n      <td>1.0</td>\n      <td>1.0</td>\n      <td>5.0</td>\n    </tr>\n    <tr>\n      <th>Procurement</th>\n      <td>7138.0</td>\n      <td>1.322779</td>\n      <td>0.793726</td>\n      <td>1.0</td>\n      <td>1.0</td>\n      <td>1.0</td>\n      <td>1.0</td>\n      <td>10.0</td>\n    </tr>\n    <tr>\n      <th>R&amp;D</th>\n      <td>999.0</td>\n      <td>1.402402</td>\n      <td>0.700869</td>\n      <td>1.0</td>\n      <td>1.0</td>\n      <td>1.0</td>\n      <td>2.0</td>\n      <td>5.0</td>\n    </tr>\n    <tr>\n      <th>Sales &amp; Marketing</th>\n      <td>16840.0</td>\n      <td>1.277435</td>\n      <td>0.660753</td>\n      <td>1.0</td>\n      <td>1.0</td>\n      <td>1.0</td>\n      <td>1.0</td>\n      <td>10.0</td>\n    </tr>\n    <tr>\n      <th>Technology</th>\n      <td>7138.0</td>\n      <td>1.260857</td>\n      <td>0.596130</td>\n      <td>1.0</td>\n      <td>1.0</td>\n      <td>1.0</td>\n      <td>1.0</td>\n      <td>7.0</td>\n    </tr>\n  </tbody>\n</table>\n</div>"
     },
     "metadata": {},
     "execution_count": 23
    }
   ],
   "source": [
    "train.groupby('department')[\"no_of_trainings\"].describe()\n"
   ]
  },
  {
   "cell_type": "code",
   "execution_count": 25,
   "metadata": {},
   "outputs": [
    {
     "output_type": "execute_result",
     "data": {
      "text/plain": [
       "                    count      mean       std  min  25%  50%  75%  max\n",
       "department                                                            \n",
       "Analytics          2319.0  1.348426  0.589845  1.0  1.0  1.0  2.0  5.0\n",
       "Finance            1091.0  1.313474  0.628667  1.0  1.0  1.0  1.0  5.0\n",
       "HR                 1085.0  1.065438  0.272263  1.0  1.0  1.0  1.0  3.0\n",
       "Legal               445.0  1.076404  0.353242  1.0  1.0  1.0  1.0  3.0\n",
       "Operations         4764.0  1.174643  0.442991  1.0  1.0  1.0  1.0  5.0\n",
       "Procurement        3020.0  1.340397  0.808630  1.0  1.0  1.0  1.0  9.0\n",
       "R&D                 440.0  1.352273  0.682348  1.0  1.0  1.0  2.0  5.0\n",
       "Sales & Marketing  7315.0  1.268216  0.629656  1.0  1.0  1.0  1.0  7.0\n",
       "Technology         3011.0  1.245766  0.564784  1.0  1.0  1.0  1.0  6.0"
      ],
      "text/html": "<div>\n<style scoped>\n    .dataframe tbody tr th:only-of-type {\n        vertical-align: middle;\n    }\n\n    .dataframe tbody tr th {\n        vertical-align: top;\n    }\n\n    .dataframe thead th {\n        text-align: right;\n    }\n</style>\n<table border=\"1\" class=\"dataframe\">\n  <thead>\n    <tr style=\"text-align: right;\">\n      <th></th>\n      <th>count</th>\n      <th>mean</th>\n      <th>std</th>\n      <th>min</th>\n      <th>25%</th>\n      <th>50%</th>\n      <th>75%</th>\n      <th>max</th>\n    </tr>\n    <tr>\n      <th>department</th>\n      <th></th>\n      <th></th>\n      <th></th>\n      <th></th>\n      <th></th>\n      <th></th>\n      <th></th>\n      <th></th>\n    </tr>\n  </thead>\n  <tbody>\n    <tr>\n      <th>Analytics</th>\n      <td>2319.0</td>\n      <td>1.348426</td>\n      <td>0.589845</td>\n      <td>1.0</td>\n      <td>1.0</td>\n      <td>1.0</td>\n      <td>2.0</td>\n      <td>5.0</td>\n    </tr>\n    <tr>\n      <th>Finance</th>\n      <td>1091.0</td>\n      <td>1.313474</td>\n      <td>0.628667</td>\n      <td>1.0</td>\n      <td>1.0</td>\n      <td>1.0</td>\n      <td>1.0</td>\n      <td>5.0</td>\n    </tr>\n    <tr>\n      <th>HR</th>\n      <td>1085.0</td>\n      <td>1.065438</td>\n      <td>0.272263</td>\n      <td>1.0</td>\n      <td>1.0</td>\n      <td>1.0</td>\n      <td>1.0</td>\n      <td>3.0</td>\n    </tr>\n    <tr>\n      <th>Legal</th>\n      <td>445.0</td>\n      <td>1.076404</td>\n      <td>0.353242</td>\n      <td>1.0</td>\n      <td>1.0</td>\n      <td>1.0</td>\n      <td>1.0</td>\n      <td>3.0</td>\n    </tr>\n    <tr>\n      <th>Operations</th>\n      <td>4764.0</td>\n      <td>1.174643</td>\n      <td>0.442991</td>\n      <td>1.0</td>\n      <td>1.0</td>\n      <td>1.0</td>\n      <td>1.0</td>\n      <td>5.0</td>\n    </tr>\n    <tr>\n      <th>Procurement</th>\n      <td>3020.0</td>\n      <td>1.340397</td>\n      <td>0.808630</td>\n      <td>1.0</td>\n      <td>1.0</td>\n      <td>1.0</td>\n      <td>1.0</td>\n      <td>9.0</td>\n    </tr>\n    <tr>\n      <th>R&amp;D</th>\n      <td>440.0</td>\n      <td>1.352273</td>\n      <td>0.682348</td>\n      <td>1.0</td>\n      <td>1.0</td>\n      <td>1.0</td>\n      <td>2.0</td>\n      <td>5.0</td>\n    </tr>\n    <tr>\n      <th>Sales &amp; Marketing</th>\n      <td>7315.0</td>\n      <td>1.268216</td>\n      <td>0.629656</td>\n      <td>1.0</td>\n      <td>1.0</td>\n      <td>1.0</td>\n      <td>1.0</td>\n      <td>7.0</td>\n    </tr>\n    <tr>\n      <th>Technology</th>\n      <td>3011.0</td>\n      <td>1.245766</td>\n      <td>0.564784</td>\n      <td>1.0</td>\n      <td>1.0</td>\n      <td>1.0</td>\n      <td>1.0</td>\n      <td>6.0</td>\n    </tr>\n  </tbody>\n</table>\n</div>"
     },
     "metadata": {},
     "execution_count": 25
    }
   ],
   "source": [
    "test.groupby('department')[\"no_of_trainings\"].describe()"
   ]
  },
  {
   "cell_type": "code",
   "execution_count": 28,
   "metadata": {},
   "outputs": [
    {
     "output_type": "execute_result",
     "data": {
      "text/plain": [
       "                     count       mean       std   min   25%   50%   75%   max\n",
       "department                                                                   \n",
       "Analytics           5352.0  32.431241  5.994745  20.0  28.0  31.0  35.0  60.0\n",
       "Finance             2536.0  32.058754  6.521766  20.0  28.0  31.0  35.0  60.0\n",
       "HR                  2418.0  34.385856  8.608311  20.0  28.0  32.0  38.0  60.0\n",
       "Legal               1039.0  33.832531  7.398306  23.0  29.0  32.0  37.0  60.0\n",
       "Operations         11348.0  36.073669  7.496754  20.0  31.0  35.0  40.0  60.0\n",
       "Procurement         7138.0  35.899972  7.998411  20.0  30.0  34.0  40.0  60.0\n",
       "R&D                  999.0  32.842843  4.544627  24.0  30.0  32.0  36.0  50.0\n",
       "Sales & Marketing  16840.0  34.860629  7.769406  20.0  29.0  33.0  39.0  60.0\n",
       "Technology          7138.0  34.867190  8.090095  20.0  29.0  33.0  39.0  60.0"
      ],
      "text/html": "<div>\n<style scoped>\n    .dataframe tbody tr th:only-of-type {\n        vertical-align: middle;\n    }\n\n    .dataframe tbody tr th {\n        vertical-align: top;\n    }\n\n    .dataframe thead th {\n        text-align: right;\n    }\n</style>\n<table border=\"1\" class=\"dataframe\">\n  <thead>\n    <tr style=\"text-align: right;\">\n      <th></th>\n      <th>count</th>\n      <th>mean</th>\n      <th>std</th>\n      <th>min</th>\n      <th>25%</th>\n      <th>50%</th>\n      <th>75%</th>\n      <th>max</th>\n    </tr>\n    <tr>\n      <th>department</th>\n      <th></th>\n      <th></th>\n      <th></th>\n      <th></th>\n      <th></th>\n      <th></th>\n      <th></th>\n      <th></th>\n    </tr>\n  </thead>\n  <tbody>\n    <tr>\n      <th>Analytics</th>\n      <td>5352.0</td>\n      <td>32.431241</td>\n      <td>5.994745</td>\n      <td>20.0</td>\n      <td>28.0</td>\n      <td>31.0</td>\n      <td>35.0</td>\n      <td>60.0</td>\n    </tr>\n    <tr>\n      <th>Finance</th>\n      <td>2536.0</td>\n      <td>32.058754</td>\n      <td>6.521766</td>\n      <td>20.0</td>\n      <td>28.0</td>\n      <td>31.0</td>\n      <td>35.0</td>\n      <td>60.0</td>\n    </tr>\n    <tr>\n      <th>HR</th>\n      <td>2418.0</td>\n      <td>34.385856</td>\n      <td>8.608311</td>\n      <td>20.0</td>\n      <td>28.0</td>\n      <td>32.0</td>\n      <td>38.0</td>\n      <td>60.0</td>\n    </tr>\n    <tr>\n      <th>Legal</th>\n      <td>1039.0</td>\n      <td>33.832531</td>\n      <td>7.398306</td>\n      <td>23.0</td>\n      <td>29.0</td>\n      <td>32.0</td>\n      <td>37.0</td>\n      <td>60.0</td>\n    </tr>\n    <tr>\n      <th>Operations</th>\n      <td>11348.0</td>\n      <td>36.073669</td>\n      <td>7.496754</td>\n      <td>20.0</td>\n      <td>31.0</td>\n      <td>35.0</td>\n      <td>40.0</td>\n      <td>60.0</td>\n    </tr>\n    <tr>\n      <th>Procurement</th>\n      <td>7138.0</td>\n      <td>35.899972</td>\n      <td>7.998411</td>\n      <td>20.0</td>\n      <td>30.0</td>\n      <td>34.0</td>\n      <td>40.0</td>\n      <td>60.0</td>\n    </tr>\n    <tr>\n      <th>R&amp;D</th>\n      <td>999.0</td>\n      <td>32.842843</td>\n      <td>4.544627</td>\n      <td>24.0</td>\n      <td>30.0</td>\n      <td>32.0</td>\n      <td>36.0</td>\n      <td>50.0</td>\n    </tr>\n    <tr>\n      <th>Sales &amp; Marketing</th>\n      <td>16840.0</td>\n      <td>34.860629</td>\n      <td>7.769406</td>\n      <td>20.0</td>\n      <td>29.0</td>\n      <td>33.0</td>\n      <td>39.0</td>\n      <td>60.0</td>\n    </tr>\n    <tr>\n      <th>Technology</th>\n      <td>7138.0</td>\n      <td>34.867190</td>\n      <td>8.090095</td>\n      <td>20.0</td>\n      <td>29.0</td>\n      <td>33.0</td>\n      <td>39.0</td>\n      <td>60.0</td>\n    </tr>\n  </tbody>\n</table>\n</div>"
     },
     "metadata": {},
     "execution_count": 28
    }
   ],
   "source": [
    "train.groupby('department')['age'].describe()"
   ]
  },
  {
   "cell_type": "code",
   "execution_count": 26,
   "metadata": {},
   "outputs": [
    {
     "output_type": "execute_result",
     "data": {
      "text/plain": [
       "                    count       mean       std   min   25%   50%   75%   max\n",
       "department                                                                  \n",
       "Analytics          2319.0  32.354463  5.928559  20.0  28.0  31.0  35.0  59.0\n",
       "Finance            1091.0  32.471127  6.977542  22.0  28.0  31.0  35.0  60.0\n",
       "HR                 1085.0  34.290323  8.608090  20.0  28.0  32.0  38.0  60.0\n",
       "Legal               445.0  33.786517  7.385266  24.0  29.0  32.0  37.0  60.0\n",
       "Operations         4764.0  36.110202  7.551699  20.0  31.0  35.0  40.0  60.0\n",
       "Procurement        3020.0  36.130795  8.175277  20.0  30.0  34.0  40.0  60.0\n",
       "R&D                 440.0  32.820455  4.427296  24.0  30.0  32.0  35.0  49.0\n",
       "Sales & Marketing  7315.0  34.665755  7.612539  20.0  29.0  33.0  39.0  60.0\n",
       "Technology         3011.0  34.935237  8.239770  20.0  29.0  33.0  39.0  60.0"
      ],
      "text/html": "<div>\n<style scoped>\n    .dataframe tbody tr th:only-of-type {\n        vertical-align: middle;\n    }\n\n    .dataframe tbody tr th {\n        vertical-align: top;\n    }\n\n    .dataframe thead th {\n        text-align: right;\n    }\n</style>\n<table border=\"1\" class=\"dataframe\">\n  <thead>\n    <tr style=\"text-align: right;\">\n      <th></th>\n      <th>count</th>\n      <th>mean</th>\n      <th>std</th>\n      <th>min</th>\n      <th>25%</th>\n      <th>50%</th>\n      <th>75%</th>\n      <th>max</th>\n    </tr>\n    <tr>\n      <th>department</th>\n      <th></th>\n      <th></th>\n      <th></th>\n      <th></th>\n      <th></th>\n      <th></th>\n      <th></th>\n      <th></th>\n    </tr>\n  </thead>\n  <tbody>\n    <tr>\n      <th>Analytics</th>\n      <td>2319.0</td>\n      <td>32.354463</td>\n      <td>5.928559</td>\n      <td>20.0</td>\n      <td>28.0</td>\n      <td>31.0</td>\n      <td>35.0</td>\n      <td>59.0</td>\n    </tr>\n    <tr>\n      <th>Finance</th>\n      <td>1091.0</td>\n      <td>32.471127</td>\n      <td>6.977542</td>\n      <td>22.0</td>\n      <td>28.0</td>\n      <td>31.0</td>\n      <td>35.0</td>\n      <td>60.0</td>\n    </tr>\n    <tr>\n      <th>HR</th>\n      <td>1085.0</td>\n      <td>34.290323</td>\n      <td>8.608090</td>\n      <td>20.0</td>\n      <td>28.0</td>\n      <td>32.0</td>\n      <td>38.0</td>\n      <td>60.0</td>\n    </tr>\n    <tr>\n      <th>Legal</th>\n      <td>445.0</td>\n      <td>33.786517</td>\n      <td>7.385266</td>\n      <td>24.0</td>\n      <td>29.0</td>\n      <td>32.0</td>\n      <td>37.0</td>\n      <td>60.0</td>\n    </tr>\n    <tr>\n      <th>Operations</th>\n      <td>4764.0</td>\n      <td>36.110202</td>\n      <td>7.551699</td>\n      <td>20.0</td>\n      <td>31.0</td>\n      <td>35.0</td>\n      <td>40.0</td>\n      <td>60.0</td>\n    </tr>\n    <tr>\n      <th>Procurement</th>\n      <td>3020.0</td>\n      <td>36.130795</td>\n      <td>8.175277</td>\n      <td>20.0</td>\n      <td>30.0</td>\n      <td>34.0</td>\n      <td>40.0</td>\n      <td>60.0</td>\n    </tr>\n    <tr>\n      <th>R&amp;D</th>\n      <td>440.0</td>\n      <td>32.820455</td>\n      <td>4.427296</td>\n      <td>24.0</td>\n      <td>30.0</td>\n      <td>32.0</td>\n      <td>35.0</td>\n      <td>49.0</td>\n    </tr>\n    <tr>\n      <th>Sales &amp; Marketing</th>\n      <td>7315.0</td>\n      <td>34.665755</td>\n      <td>7.612539</td>\n      <td>20.0</td>\n      <td>29.0</td>\n      <td>33.0</td>\n      <td>39.0</td>\n      <td>60.0</td>\n    </tr>\n    <tr>\n      <th>Technology</th>\n      <td>3011.0</td>\n      <td>34.935237</td>\n      <td>8.239770</td>\n      <td>20.0</td>\n      <td>29.0</td>\n      <td>33.0</td>\n      <td>39.0</td>\n      <td>60.0</td>\n    </tr>\n  </tbody>\n</table>\n</div>"
     },
     "metadata": {},
     "execution_count": 26
    }
   ],
   "source": [
    "test.groupby('department')['age'].describe()"
   ]
  },
  {
   "cell_type": "code",
   "execution_count": 29,
   "metadata": {},
   "outputs": [
    {
     "output_type": "execute_result",
     "data": {
      "text/plain": [
       "                     count      mean       std  min  25%  50%  75%   max\n",
       "department                                                              \n",
       "Analytics           5352.0  4.932735  3.354521  1.0  3.0  4.0  7.0  34.0\n",
       "Finance             2536.0  4.819401  3.613654  1.0  2.0  4.0  6.0  33.0\n",
       "HR                  2418.0  5.683623  4.408166  1.0  3.0  5.0  7.0  33.0\n",
       "Legal               1039.0  4.599615  3.850961  1.0  2.0  4.0  6.0  32.0\n",
       "Operations         11348.0  6.416020  4.359909  1.0  3.0  5.0  8.0  34.0\n",
       "Procurement         7138.0  6.331045  4.532367  1.0  3.0  5.0  8.0  32.0\n",
       "R&D                  999.0  4.554555  2.749162  1.0  3.0  4.0  6.0  20.0\n",
       "Sales & Marketing  16840.0  5.912292  4.292995  1.0  3.0  5.0  8.0  37.0\n",
       "Technology          7138.0  5.914822  4.510480  1.0  3.0  5.0  7.0  34.0"
      ],
      "text/html": "<div>\n<style scoped>\n    .dataframe tbody tr th:only-of-type {\n        vertical-align: middle;\n    }\n\n    .dataframe tbody tr th {\n        vertical-align: top;\n    }\n\n    .dataframe thead th {\n        text-align: right;\n    }\n</style>\n<table border=\"1\" class=\"dataframe\">\n  <thead>\n    <tr style=\"text-align: right;\">\n      <th></th>\n      <th>count</th>\n      <th>mean</th>\n      <th>std</th>\n      <th>min</th>\n      <th>25%</th>\n      <th>50%</th>\n      <th>75%</th>\n      <th>max</th>\n    </tr>\n    <tr>\n      <th>department</th>\n      <th></th>\n      <th></th>\n      <th></th>\n      <th></th>\n      <th></th>\n      <th></th>\n      <th></th>\n      <th></th>\n    </tr>\n  </thead>\n  <tbody>\n    <tr>\n      <th>Analytics</th>\n      <td>5352.0</td>\n      <td>4.932735</td>\n      <td>3.354521</td>\n      <td>1.0</td>\n      <td>3.0</td>\n      <td>4.0</td>\n      <td>7.0</td>\n      <td>34.0</td>\n    </tr>\n    <tr>\n      <th>Finance</th>\n      <td>2536.0</td>\n      <td>4.819401</td>\n      <td>3.613654</td>\n      <td>1.0</td>\n      <td>2.0</td>\n      <td>4.0</td>\n      <td>6.0</td>\n      <td>33.0</td>\n    </tr>\n    <tr>\n      <th>HR</th>\n      <td>2418.0</td>\n      <td>5.683623</td>\n      <td>4.408166</td>\n      <td>1.0</td>\n      <td>3.0</td>\n      <td>5.0</td>\n      <td>7.0</td>\n      <td>33.0</td>\n    </tr>\n    <tr>\n      <th>Legal</th>\n      <td>1039.0</td>\n      <td>4.599615</td>\n      <td>3.850961</td>\n      <td>1.0</td>\n      <td>2.0</td>\n      <td>4.0</td>\n      <td>6.0</td>\n      <td>32.0</td>\n    </tr>\n    <tr>\n      <th>Operations</th>\n      <td>11348.0</td>\n      <td>6.416020</td>\n      <td>4.359909</td>\n      <td>1.0</td>\n      <td>3.0</td>\n      <td>5.0</td>\n      <td>8.0</td>\n      <td>34.0</td>\n    </tr>\n    <tr>\n      <th>Procurement</th>\n      <td>7138.0</td>\n      <td>6.331045</td>\n      <td>4.532367</td>\n      <td>1.0</td>\n      <td>3.0</td>\n      <td>5.0</td>\n      <td>8.0</td>\n      <td>32.0</td>\n    </tr>\n    <tr>\n      <th>R&amp;D</th>\n      <td>999.0</td>\n      <td>4.554555</td>\n      <td>2.749162</td>\n      <td>1.0</td>\n      <td>3.0</td>\n      <td>4.0</td>\n      <td>6.0</td>\n      <td>20.0</td>\n    </tr>\n    <tr>\n      <th>Sales &amp; Marketing</th>\n      <td>16840.0</td>\n      <td>5.912292</td>\n      <td>4.292995</td>\n      <td>1.0</td>\n      <td>3.0</td>\n      <td>5.0</td>\n      <td>8.0</td>\n      <td>37.0</td>\n    </tr>\n    <tr>\n      <th>Technology</th>\n      <td>7138.0</td>\n      <td>5.914822</td>\n      <td>4.510480</td>\n      <td>1.0</td>\n      <td>3.0</td>\n      <td>5.0</td>\n      <td>7.0</td>\n      <td>34.0</td>\n    </tr>\n  </tbody>\n</table>\n</div>"
     },
     "metadata": {},
     "execution_count": 29
    }
   ],
   "source": [
    "train.groupby('department')['length_of_service'].describe()"
   ]
  },
  {
   "cell_type": "code",
   "execution_count": 27,
   "metadata": {},
   "outputs": [
    {
     "output_type": "execute_result",
     "data": {
      "text/plain": [
       "                    count      mean       std  min  25%  50%  75%   max\n",
       "department                                                             \n",
       "Analytics          2319.0  4.956878  3.373480  1.0  3.0  4.0  7.0  28.0\n",
       "Finance            1091.0  5.005500  3.541622  1.0  2.0  4.0  7.0  31.0\n",
       "HR                 1085.0  5.626728  4.303717  1.0  3.0  5.0  7.0  30.0\n",
       "Legal               445.0  4.602247  3.477274  1.0  2.0  4.0  6.0  21.0\n",
       "Operations         4764.0  6.414777  4.447572  1.0  3.0  5.0  8.0  34.0\n",
       "Procurement        3020.0  6.238742  4.418669  1.0  3.0  5.0  8.0  31.0\n",
       "R&D                 440.0  4.750000  2.984585  1.0  2.0  4.0  6.0  18.0\n",
       "Sales & Marketing  7315.0  5.778947  4.200042  1.0  3.0  5.0  7.0  32.0\n",
       "Technology         3011.0  5.849552  4.406083  1.0  3.0  5.0  7.0  34.0"
      ],
      "text/html": "<div>\n<style scoped>\n    .dataframe tbody tr th:only-of-type {\n        vertical-align: middle;\n    }\n\n    .dataframe tbody tr th {\n        vertical-align: top;\n    }\n\n    .dataframe thead th {\n        text-align: right;\n    }\n</style>\n<table border=\"1\" class=\"dataframe\">\n  <thead>\n    <tr style=\"text-align: right;\">\n      <th></th>\n      <th>count</th>\n      <th>mean</th>\n      <th>std</th>\n      <th>min</th>\n      <th>25%</th>\n      <th>50%</th>\n      <th>75%</th>\n      <th>max</th>\n    </tr>\n    <tr>\n      <th>department</th>\n      <th></th>\n      <th></th>\n      <th></th>\n      <th></th>\n      <th></th>\n      <th></th>\n      <th></th>\n      <th></th>\n    </tr>\n  </thead>\n  <tbody>\n    <tr>\n      <th>Analytics</th>\n      <td>2319.0</td>\n      <td>4.956878</td>\n      <td>3.373480</td>\n      <td>1.0</td>\n      <td>3.0</td>\n      <td>4.0</td>\n      <td>7.0</td>\n      <td>28.0</td>\n    </tr>\n    <tr>\n      <th>Finance</th>\n      <td>1091.0</td>\n      <td>5.005500</td>\n      <td>3.541622</td>\n      <td>1.0</td>\n      <td>2.0</td>\n      <td>4.0</td>\n      <td>7.0</td>\n      <td>31.0</td>\n    </tr>\n    <tr>\n      <th>HR</th>\n      <td>1085.0</td>\n      <td>5.626728</td>\n      <td>4.303717</td>\n      <td>1.0</td>\n      <td>3.0</td>\n      <td>5.0</td>\n      <td>7.0</td>\n      <td>30.0</td>\n    </tr>\n    <tr>\n      <th>Legal</th>\n      <td>445.0</td>\n      <td>4.602247</td>\n      <td>3.477274</td>\n      <td>1.0</td>\n      <td>2.0</td>\n      <td>4.0</td>\n      <td>6.0</td>\n      <td>21.0</td>\n    </tr>\n    <tr>\n      <th>Operations</th>\n      <td>4764.0</td>\n      <td>6.414777</td>\n      <td>4.447572</td>\n      <td>1.0</td>\n      <td>3.0</td>\n      <td>5.0</td>\n      <td>8.0</td>\n      <td>34.0</td>\n    </tr>\n    <tr>\n      <th>Procurement</th>\n      <td>3020.0</td>\n      <td>6.238742</td>\n      <td>4.418669</td>\n      <td>1.0</td>\n      <td>3.0</td>\n      <td>5.0</td>\n      <td>8.0</td>\n      <td>31.0</td>\n    </tr>\n    <tr>\n      <th>R&amp;D</th>\n      <td>440.0</td>\n      <td>4.750000</td>\n      <td>2.984585</td>\n      <td>1.0</td>\n      <td>2.0</td>\n      <td>4.0</td>\n      <td>6.0</td>\n      <td>18.0</td>\n    </tr>\n    <tr>\n      <th>Sales &amp; Marketing</th>\n      <td>7315.0</td>\n      <td>5.778947</td>\n      <td>4.200042</td>\n      <td>1.0</td>\n      <td>3.0</td>\n      <td>5.0</td>\n      <td>7.0</td>\n      <td>32.0</td>\n    </tr>\n    <tr>\n      <th>Technology</th>\n      <td>3011.0</td>\n      <td>5.849552</td>\n      <td>4.406083</td>\n      <td>1.0</td>\n      <td>3.0</td>\n      <td>5.0</td>\n      <td>7.0</td>\n      <td>34.0</td>\n    </tr>\n  </tbody>\n</table>\n</div>"
     },
     "metadata": {},
     "execution_count": 27
    }
   ],
   "source": [
    "test.groupby('department')['length_of_service'].describe()"
   ]
  },
  {
   "cell_type": "code",
   "execution_count": 30,
   "metadata": {},
   "outputs": [
    {
     "output_type": "execute_result",
     "data": {
      "text/plain": [
       "                     count      mean       std  min  25%  50%  75%  max\n",
       "department                                                             \n",
       "Analytics           5352.0  3.508782  1.157038  1.0  3.0  3.0  5.0  5.0\n",
       "Finance             2536.0  3.449921  1.091412  1.0  3.0  3.0  4.0  5.0\n",
       "HR                  2418.0  3.433830  1.132861  1.0  3.0  3.0  4.0  5.0\n",
       "Legal               1039.0  3.339750  1.129849  1.0  3.0  3.0  4.0  5.0\n",
       "Operations         11348.0  3.599401  1.136993  1.0  3.0  4.0  5.0  5.0\n",
       "Procurement         7138.0  3.280891  1.148972  1.0  3.0  3.0  4.0  5.0\n",
       "R&D                  999.0  3.514515  1.148991  1.0  3.0  3.0  5.0  5.0\n",
       "Sales & Marketing  16840.0  3.062648  1.316997  1.0  2.0  3.0  4.0  5.0\n",
       "Technology          7138.0  3.146540  1.131331  1.0  3.0  3.0  4.0  5.0"
      ],
      "text/html": "<div>\n<style scoped>\n    .dataframe tbody tr th:only-of-type {\n        vertical-align: middle;\n    }\n\n    .dataframe tbody tr th {\n        vertical-align: top;\n    }\n\n    .dataframe thead th {\n        text-align: right;\n    }\n</style>\n<table border=\"1\" class=\"dataframe\">\n  <thead>\n    <tr style=\"text-align: right;\">\n      <th></th>\n      <th>count</th>\n      <th>mean</th>\n      <th>std</th>\n      <th>min</th>\n      <th>25%</th>\n      <th>50%</th>\n      <th>75%</th>\n      <th>max</th>\n    </tr>\n    <tr>\n      <th>department</th>\n      <th></th>\n      <th></th>\n      <th></th>\n      <th></th>\n      <th></th>\n      <th></th>\n      <th></th>\n      <th></th>\n    </tr>\n  </thead>\n  <tbody>\n    <tr>\n      <th>Analytics</th>\n      <td>5352.0</td>\n      <td>3.508782</td>\n      <td>1.157038</td>\n      <td>1.0</td>\n      <td>3.0</td>\n      <td>3.0</td>\n      <td>5.0</td>\n      <td>5.0</td>\n    </tr>\n    <tr>\n      <th>Finance</th>\n      <td>2536.0</td>\n      <td>3.449921</td>\n      <td>1.091412</td>\n      <td>1.0</td>\n      <td>3.0</td>\n      <td>3.0</td>\n      <td>4.0</td>\n      <td>5.0</td>\n    </tr>\n    <tr>\n      <th>HR</th>\n      <td>2418.0</td>\n      <td>3.433830</td>\n      <td>1.132861</td>\n      <td>1.0</td>\n      <td>3.0</td>\n      <td>3.0</td>\n      <td>4.0</td>\n      <td>5.0</td>\n    </tr>\n    <tr>\n      <th>Legal</th>\n      <td>1039.0</td>\n      <td>3.339750</td>\n      <td>1.129849</td>\n      <td>1.0</td>\n      <td>3.0</td>\n      <td>3.0</td>\n      <td>4.0</td>\n      <td>5.0</td>\n    </tr>\n    <tr>\n      <th>Operations</th>\n      <td>11348.0</td>\n      <td>3.599401</td>\n      <td>1.136993</td>\n      <td>1.0</td>\n      <td>3.0</td>\n      <td>4.0</td>\n      <td>5.0</td>\n      <td>5.0</td>\n    </tr>\n    <tr>\n      <th>Procurement</th>\n      <td>7138.0</td>\n      <td>3.280891</td>\n      <td>1.148972</td>\n      <td>1.0</td>\n      <td>3.0</td>\n      <td>3.0</td>\n      <td>4.0</td>\n      <td>5.0</td>\n    </tr>\n    <tr>\n      <th>R&amp;D</th>\n      <td>999.0</td>\n      <td>3.514515</td>\n      <td>1.148991</td>\n      <td>1.0</td>\n      <td>3.0</td>\n      <td>3.0</td>\n      <td>5.0</td>\n      <td>5.0</td>\n    </tr>\n    <tr>\n      <th>Sales &amp; Marketing</th>\n      <td>16840.0</td>\n      <td>3.062648</td>\n      <td>1.316997</td>\n      <td>1.0</td>\n      <td>2.0</td>\n      <td>3.0</td>\n      <td>4.0</td>\n      <td>5.0</td>\n    </tr>\n    <tr>\n      <th>Technology</th>\n      <td>7138.0</td>\n      <td>3.146540</td>\n      <td>1.131331</td>\n      <td>1.0</td>\n      <td>3.0</td>\n      <td>3.0</td>\n      <td>4.0</td>\n      <td>5.0</td>\n    </tr>\n  </tbody>\n</table>\n</div>"
     },
     "metadata": {},
     "execution_count": 30
    }
   ],
   "source": [
    "train.groupby('department')['previous_year_rating'].describe()"
   ]
  },
  {
   "cell_type": "code",
   "execution_count": 31,
   "metadata": {},
   "outputs": [
    {
     "output_type": "execute_result",
     "data": {
      "text/plain": [
       "                    count      mean       std  min  25%  50%  75%  max\n",
       "department                                                            \n",
       "Analytics          2319.0  3.482104  1.137449  1.0  3.0  3.0  4.0  5.0\n",
       "Finance            1091.0  3.485793  1.136763  1.0  3.0  3.0  5.0  5.0\n",
       "HR                 1085.0  3.477419  1.162410  1.0  3.0  3.0  5.0  5.0\n",
       "Legal               445.0  3.393258  1.211971  1.0  3.0  3.0  5.0  5.0\n",
       "Operations         4764.0  3.623636  1.117135  1.0  3.0  4.0  5.0  5.0\n",
       "Procurement        3020.0  3.248013  1.156693  1.0  3.0  3.0  4.0  5.0\n",
       "R&D                 440.0  3.600000  1.102493  1.0  3.0  3.0  5.0  5.0\n",
       "Sales & Marketing  7315.0  3.082980  1.326031  1.0  2.0  3.0  4.0  5.0\n",
       "Technology         3011.0  3.139489  1.118764  1.0  3.0  3.0  4.0  5.0"
      ],
      "text/html": "<div>\n<style scoped>\n    .dataframe tbody tr th:only-of-type {\n        vertical-align: middle;\n    }\n\n    .dataframe tbody tr th {\n        vertical-align: top;\n    }\n\n    .dataframe thead th {\n        text-align: right;\n    }\n</style>\n<table border=\"1\" class=\"dataframe\">\n  <thead>\n    <tr style=\"text-align: right;\">\n      <th></th>\n      <th>count</th>\n      <th>mean</th>\n      <th>std</th>\n      <th>min</th>\n      <th>25%</th>\n      <th>50%</th>\n      <th>75%</th>\n      <th>max</th>\n    </tr>\n    <tr>\n      <th>department</th>\n      <th></th>\n      <th></th>\n      <th></th>\n      <th></th>\n      <th></th>\n      <th></th>\n      <th></th>\n      <th></th>\n    </tr>\n  </thead>\n  <tbody>\n    <tr>\n      <th>Analytics</th>\n      <td>2319.0</td>\n      <td>3.482104</td>\n      <td>1.137449</td>\n      <td>1.0</td>\n      <td>3.0</td>\n      <td>3.0</td>\n      <td>4.0</td>\n      <td>5.0</td>\n    </tr>\n    <tr>\n      <th>Finance</th>\n      <td>1091.0</td>\n      <td>3.485793</td>\n      <td>1.136763</td>\n      <td>1.0</td>\n      <td>3.0</td>\n      <td>3.0</td>\n      <td>5.0</td>\n      <td>5.0</td>\n    </tr>\n    <tr>\n      <th>HR</th>\n      <td>1085.0</td>\n      <td>3.477419</td>\n      <td>1.162410</td>\n      <td>1.0</td>\n      <td>3.0</td>\n      <td>3.0</td>\n      <td>5.0</td>\n      <td>5.0</td>\n    </tr>\n    <tr>\n      <th>Legal</th>\n      <td>445.0</td>\n      <td>3.393258</td>\n      <td>1.211971</td>\n      <td>1.0</td>\n      <td>3.0</td>\n      <td>3.0</td>\n      <td>5.0</td>\n      <td>5.0</td>\n    </tr>\n    <tr>\n      <th>Operations</th>\n      <td>4764.0</td>\n      <td>3.623636</td>\n      <td>1.117135</td>\n      <td>1.0</td>\n      <td>3.0</td>\n      <td>4.0</td>\n      <td>5.0</td>\n      <td>5.0</td>\n    </tr>\n    <tr>\n      <th>Procurement</th>\n      <td>3020.0</td>\n      <td>3.248013</td>\n      <td>1.156693</td>\n      <td>1.0</td>\n      <td>3.0</td>\n      <td>3.0</td>\n      <td>4.0</td>\n      <td>5.0</td>\n    </tr>\n    <tr>\n      <th>R&amp;D</th>\n      <td>440.0</td>\n      <td>3.600000</td>\n      <td>1.102493</td>\n      <td>1.0</td>\n      <td>3.0</td>\n      <td>3.0</td>\n      <td>5.0</td>\n      <td>5.0</td>\n    </tr>\n    <tr>\n      <th>Sales &amp; Marketing</th>\n      <td>7315.0</td>\n      <td>3.082980</td>\n      <td>1.326031</td>\n      <td>1.0</td>\n      <td>2.0</td>\n      <td>3.0</td>\n      <td>4.0</td>\n      <td>5.0</td>\n    </tr>\n    <tr>\n      <th>Technology</th>\n      <td>3011.0</td>\n      <td>3.139489</td>\n      <td>1.118764</td>\n      <td>1.0</td>\n      <td>3.0</td>\n      <td>3.0</td>\n      <td>4.0</td>\n      <td>5.0</td>\n    </tr>\n  </tbody>\n</table>\n</div>"
     },
     "metadata": {},
     "execution_count": 31
    }
   ],
   "source": [
    "test.groupby('department')['previous_year_rating'].describe()"
   ]
  },
  {
   "cell_type": "code",
   "execution_count": 32,
   "metadata": {},
   "outputs": [
    {
     "output_type": "execute_result",
     "data": {
      "text/plain": [
       "                     count       mean       std   min   25%   50%   75%   max\n",
       "department                                                                   \n",
       "Analytics           5352.0  84.602952  2.855495  75.0  83.0  85.0  86.0  99.0\n",
       "Finance             2536.0  60.222003  4.929564  50.0  58.0  60.0  62.0  98.0\n",
       "HR                  2418.0  50.018197  4.680137  40.0  48.0  50.0  51.0  97.0\n",
       "Legal               1039.0  59.868142  4.103776  52.0  58.0  60.0  61.0  97.0\n",
       "Operations         11348.0  60.226648  4.818071  50.0  58.0  60.0  62.0  99.0\n",
       "Procurement         7138.0  70.122443  4.305110  60.0  68.0  70.0  72.0  99.0\n",
       "R&D                  999.0  84.596597  2.921215  73.0  83.0  85.0  86.0  98.0\n",
       "Sales & Marketing  16840.0  50.261698  5.551414  39.0  48.0  50.0  52.0  99.0\n",
       "Technology          7138.0  79.928692  3.355511  68.0  78.0  80.0  82.0  99.0"
      ],
      "text/html": "<div>\n<style scoped>\n    .dataframe tbody tr th:only-of-type {\n        vertical-align: middle;\n    }\n\n    .dataframe tbody tr th {\n        vertical-align: top;\n    }\n\n    .dataframe thead th {\n        text-align: right;\n    }\n</style>\n<table border=\"1\" class=\"dataframe\">\n  <thead>\n    <tr style=\"text-align: right;\">\n      <th></th>\n      <th>count</th>\n      <th>mean</th>\n      <th>std</th>\n      <th>min</th>\n      <th>25%</th>\n      <th>50%</th>\n      <th>75%</th>\n      <th>max</th>\n    </tr>\n    <tr>\n      <th>department</th>\n      <th></th>\n      <th></th>\n      <th></th>\n      <th></th>\n      <th></th>\n      <th></th>\n      <th></th>\n      <th></th>\n    </tr>\n  </thead>\n  <tbody>\n    <tr>\n      <th>Analytics</th>\n      <td>5352.0</td>\n      <td>84.602952</td>\n      <td>2.855495</td>\n      <td>75.0</td>\n      <td>83.0</td>\n      <td>85.0</td>\n      <td>86.0</td>\n      <td>99.0</td>\n    </tr>\n    <tr>\n      <th>Finance</th>\n      <td>2536.0</td>\n      <td>60.222003</td>\n      <td>4.929564</td>\n      <td>50.0</td>\n      <td>58.0</td>\n      <td>60.0</td>\n      <td>62.0</td>\n      <td>98.0</td>\n    </tr>\n    <tr>\n      <th>HR</th>\n      <td>2418.0</td>\n      <td>50.018197</td>\n      <td>4.680137</td>\n      <td>40.0</td>\n      <td>48.0</td>\n      <td>50.0</td>\n      <td>51.0</td>\n      <td>97.0</td>\n    </tr>\n    <tr>\n      <th>Legal</th>\n      <td>1039.0</td>\n      <td>59.868142</td>\n      <td>4.103776</td>\n      <td>52.0</td>\n      <td>58.0</td>\n      <td>60.0</td>\n      <td>61.0</td>\n      <td>97.0</td>\n    </tr>\n    <tr>\n      <th>Operations</th>\n      <td>11348.0</td>\n      <td>60.226648</td>\n      <td>4.818071</td>\n      <td>50.0</td>\n      <td>58.0</td>\n      <td>60.0</td>\n      <td>62.0</td>\n      <td>99.0</td>\n    </tr>\n    <tr>\n      <th>Procurement</th>\n      <td>7138.0</td>\n      <td>70.122443</td>\n      <td>4.305110</td>\n      <td>60.0</td>\n      <td>68.0</td>\n      <td>70.0</td>\n      <td>72.0</td>\n      <td>99.0</td>\n    </tr>\n    <tr>\n      <th>R&amp;D</th>\n      <td>999.0</td>\n      <td>84.596597</td>\n      <td>2.921215</td>\n      <td>73.0</td>\n      <td>83.0</td>\n      <td>85.0</td>\n      <td>86.0</td>\n      <td>98.0</td>\n    </tr>\n    <tr>\n      <th>Sales &amp; Marketing</th>\n      <td>16840.0</td>\n      <td>50.261698</td>\n      <td>5.551414</td>\n      <td>39.0</td>\n      <td>48.0</td>\n      <td>50.0</td>\n      <td>52.0</td>\n      <td>99.0</td>\n    </tr>\n    <tr>\n      <th>Technology</th>\n      <td>7138.0</td>\n      <td>79.928692</td>\n      <td>3.355511</td>\n      <td>68.0</td>\n      <td>78.0</td>\n      <td>80.0</td>\n      <td>82.0</td>\n      <td>99.0</td>\n    </tr>\n  </tbody>\n</table>\n</div>"
     },
     "metadata": {},
     "execution_count": 32
    }
   ],
   "source": [
    "train.groupby('department')['avg_training_score'].describe()"
   ]
  },
  {
   "cell_type": "code",
   "execution_count": 33,
   "metadata": {},
   "outputs": [
    {
     "output_type": "execute_result",
     "data": {
      "text/plain": [
       "                    count       mean       std   min   25%   50%   75%   max\n",
       "department                                                                  \n",
       "Analytics          2319.0  84.541182  2.888182  72.0  83.0  84.0  86.0  99.0\n",
       "Finance            1091.0  60.322640  4.982394  50.0  58.0  60.0  62.0  97.0\n",
       "HR                 1085.0  50.305991  5.482647  41.0  48.0  50.0  52.0  98.0\n",
       "Legal               445.0  59.575281  3.512759  51.0  57.0  59.0  62.0  91.0\n",
       "Operations         4764.0  60.300798  5.038003  49.0  58.0  60.0  62.0  99.0\n",
       "Procurement        3020.0  70.146026  4.229214  61.0  68.0  70.0  72.0  99.0\n",
       "R&D                 440.0  84.413636  2.956294  76.0  82.0  84.0  86.0  96.0\n",
       "Sales & Marketing  7315.0  50.085988  5.211089  39.0  48.0  50.0  51.0  99.0\n",
       "Technology         3011.0  79.860511  3.380097  69.0  78.0  80.0  82.0  99.0"
      ],
      "text/html": "<div>\n<style scoped>\n    .dataframe tbody tr th:only-of-type {\n        vertical-align: middle;\n    }\n\n    .dataframe tbody tr th {\n        vertical-align: top;\n    }\n\n    .dataframe thead th {\n        text-align: right;\n    }\n</style>\n<table border=\"1\" class=\"dataframe\">\n  <thead>\n    <tr style=\"text-align: right;\">\n      <th></th>\n      <th>count</th>\n      <th>mean</th>\n      <th>std</th>\n      <th>min</th>\n      <th>25%</th>\n      <th>50%</th>\n      <th>75%</th>\n      <th>max</th>\n    </tr>\n    <tr>\n      <th>department</th>\n      <th></th>\n      <th></th>\n      <th></th>\n      <th></th>\n      <th></th>\n      <th></th>\n      <th></th>\n      <th></th>\n    </tr>\n  </thead>\n  <tbody>\n    <tr>\n      <th>Analytics</th>\n      <td>2319.0</td>\n      <td>84.541182</td>\n      <td>2.888182</td>\n      <td>72.0</td>\n      <td>83.0</td>\n      <td>84.0</td>\n      <td>86.0</td>\n      <td>99.0</td>\n    </tr>\n    <tr>\n      <th>Finance</th>\n      <td>1091.0</td>\n      <td>60.322640</td>\n      <td>4.982394</td>\n      <td>50.0</td>\n      <td>58.0</td>\n      <td>60.0</td>\n      <td>62.0</td>\n      <td>97.0</td>\n    </tr>\n    <tr>\n      <th>HR</th>\n      <td>1085.0</td>\n      <td>50.305991</td>\n      <td>5.482647</td>\n      <td>41.0</td>\n      <td>48.0</td>\n      <td>50.0</td>\n      <td>52.0</td>\n      <td>98.0</td>\n    </tr>\n    <tr>\n      <th>Legal</th>\n      <td>445.0</td>\n      <td>59.575281</td>\n      <td>3.512759</td>\n      <td>51.0</td>\n      <td>57.0</td>\n      <td>59.0</td>\n      <td>62.0</td>\n      <td>91.0</td>\n    </tr>\n    <tr>\n      <th>Operations</th>\n      <td>4764.0</td>\n      <td>60.300798</td>\n      <td>5.038003</td>\n      <td>49.0</td>\n      <td>58.0</td>\n      <td>60.0</td>\n      <td>62.0</td>\n      <td>99.0</td>\n    </tr>\n    <tr>\n      <th>Procurement</th>\n      <td>3020.0</td>\n      <td>70.146026</td>\n      <td>4.229214</td>\n      <td>61.0</td>\n      <td>68.0</td>\n      <td>70.0</td>\n      <td>72.0</td>\n      <td>99.0</td>\n    </tr>\n    <tr>\n      <th>R&amp;D</th>\n      <td>440.0</td>\n      <td>84.413636</td>\n      <td>2.956294</td>\n      <td>76.0</td>\n      <td>82.0</td>\n      <td>84.0</td>\n      <td>86.0</td>\n      <td>96.0</td>\n    </tr>\n    <tr>\n      <th>Sales &amp; Marketing</th>\n      <td>7315.0</td>\n      <td>50.085988</td>\n      <td>5.211089</td>\n      <td>39.0</td>\n      <td>48.0</td>\n      <td>50.0</td>\n      <td>51.0</td>\n      <td>99.0</td>\n    </tr>\n    <tr>\n      <th>Technology</th>\n      <td>3011.0</td>\n      <td>79.860511</td>\n      <td>3.380097</td>\n      <td>69.0</td>\n      <td>78.0</td>\n      <td>80.0</td>\n      <td>82.0</td>\n      <td>99.0</td>\n    </tr>\n  </tbody>\n</table>\n</div>"
     },
     "metadata": {},
     "execution_count": 33
    }
   ],
   "source": [
    "test.groupby('department')['avg_training_score'].describe()"
   ]
  },
  {
   "cell_type": "code",
   "execution_count": 36,
   "metadata": {},
   "outputs": [
    {
     "output_type": "execute_result",
     "data": {
      "text/plain": [
       "                     count      mean       std  min  25%  50%  75%  max\n",
       "department                                                             \n",
       "Analytics           5352.0  0.404148  0.490772  0.0  0.0  0.0  1.0  1.0\n",
       "Finance             2536.0  0.414826  0.492789  0.0  0.0  0.0  1.0  1.0\n",
       "HR                  2418.0  0.334160  0.471794  0.0  0.0  0.0  1.0  1.0\n",
       "Legal               1039.0  0.333975  0.471858  0.0  0.0  0.0  1.0  1.0\n",
       "Operations         11348.0  0.430737  0.495201  0.0  0.0  0.0  1.0  1.0\n",
       "Procurement         7138.0  0.377557  0.484810  0.0  0.0  0.0  1.0  1.0\n",
       "R&D                  999.0  0.416416  0.493211  0.0  0.0  0.0  1.0  1.0\n",
       "Sales & Marketing  16840.0  0.265083  0.441391  0.0  0.0  0.0  1.0  1.0\n",
       "Technology          7138.0  0.344354  0.475190  0.0  0.0  0.0  1.0  1.0"
      ],
      "text/html": "<div>\n<style scoped>\n    .dataframe tbody tr th:only-of-type {\n        vertical-align: middle;\n    }\n\n    .dataframe tbody tr th {\n        vertical-align: top;\n    }\n\n    .dataframe thead th {\n        text-align: right;\n    }\n</style>\n<table border=\"1\" class=\"dataframe\">\n  <thead>\n    <tr style=\"text-align: right;\">\n      <th></th>\n      <th>count</th>\n      <th>mean</th>\n      <th>std</th>\n      <th>min</th>\n      <th>25%</th>\n      <th>50%</th>\n      <th>75%</th>\n      <th>max</th>\n    </tr>\n    <tr>\n      <th>department</th>\n      <th></th>\n      <th></th>\n      <th></th>\n      <th></th>\n      <th></th>\n      <th></th>\n      <th></th>\n      <th></th>\n    </tr>\n  </thead>\n  <tbody>\n    <tr>\n      <th>Analytics</th>\n      <td>5352.0</td>\n      <td>0.404148</td>\n      <td>0.490772</td>\n      <td>0.0</td>\n      <td>0.0</td>\n      <td>0.0</td>\n      <td>1.0</td>\n      <td>1.0</td>\n    </tr>\n    <tr>\n      <th>Finance</th>\n      <td>2536.0</td>\n      <td>0.414826</td>\n      <td>0.492789</td>\n      <td>0.0</td>\n      <td>0.0</td>\n      <td>0.0</td>\n      <td>1.0</td>\n      <td>1.0</td>\n    </tr>\n    <tr>\n      <th>HR</th>\n      <td>2418.0</td>\n      <td>0.334160</td>\n      <td>0.471794</td>\n      <td>0.0</td>\n      <td>0.0</td>\n      <td>0.0</td>\n      <td>1.0</td>\n      <td>1.0</td>\n    </tr>\n    <tr>\n      <th>Legal</th>\n      <td>1039.0</td>\n      <td>0.333975</td>\n      <td>0.471858</td>\n      <td>0.0</td>\n      <td>0.0</td>\n      <td>0.0</td>\n      <td>1.0</td>\n      <td>1.0</td>\n    </tr>\n    <tr>\n      <th>Operations</th>\n      <td>11348.0</td>\n      <td>0.430737</td>\n      <td>0.495201</td>\n      <td>0.0</td>\n      <td>0.0</td>\n      <td>0.0</td>\n      <td>1.0</td>\n      <td>1.0</td>\n    </tr>\n    <tr>\n      <th>Procurement</th>\n      <td>7138.0</td>\n      <td>0.377557</td>\n      <td>0.484810</td>\n      <td>0.0</td>\n      <td>0.0</td>\n      <td>0.0</td>\n      <td>1.0</td>\n      <td>1.0</td>\n    </tr>\n    <tr>\n      <th>R&amp;D</th>\n      <td>999.0</td>\n      <td>0.416416</td>\n      <td>0.493211</td>\n      <td>0.0</td>\n      <td>0.0</td>\n      <td>0.0</td>\n      <td>1.0</td>\n      <td>1.0</td>\n    </tr>\n    <tr>\n      <th>Sales &amp; Marketing</th>\n      <td>16840.0</td>\n      <td>0.265083</td>\n      <td>0.441391</td>\n      <td>0.0</td>\n      <td>0.0</td>\n      <td>0.0</td>\n      <td>1.0</td>\n      <td>1.0</td>\n    </tr>\n    <tr>\n      <th>Technology</th>\n      <td>7138.0</td>\n      <td>0.344354</td>\n      <td>0.475190</td>\n      <td>0.0</td>\n      <td>0.0</td>\n      <td>0.0</td>\n      <td>1.0</td>\n      <td>1.0</td>\n    </tr>\n  </tbody>\n</table>\n</div>"
     },
     "metadata": {},
     "execution_count": 36
    }
   ],
   "source": [
    "train.groupby('department')['KPIs_met >80%'].describe()"
   ]
  },
  {
   "cell_type": "code",
   "execution_count": 37,
   "metadata": {},
   "outputs": [
    {
     "output_type": "execute_result",
     "data": {
      "text/plain": [
       "                    count      mean       std  min  25%  50%  75%  max\n",
       "department                                                            \n",
       "Analytics          2319.0  0.404053  0.490814  0.0  0.0  0.0  1.0  1.0\n",
       "Finance            1091.0  0.396884  0.489476  0.0  0.0  0.0  1.0  1.0\n",
       "HR                 1085.0  0.349309  0.476972  0.0  0.0  0.0  1.0  1.0\n",
       "Legal               445.0  0.341573  0.474771  0.0  0.0  0.0  1.0  1.0\n",
       "Operations         4764.0  0.444165  0.496925  0.0  0.0  0.0  1.0  1.0\n",
       "Procurement        3020.0  0.377483  0.484838  0.0  0.0  0.0  1.0  1.0\n",
       "R&D                 440.0  0.440909  0.497061  0.0  0.0  0.0  1.0  1.0\n",
       "Sales & Marketing  7315.0  0.276418  0.447257  0.0  0.0  0.0  1.0  1.0\n",
       "Technology         3011.0  0.350714  0.477273  0.0  0.0  0.0  1.0  1.0"
      ],
      "text/html": "<div>\n<style scoped>\n    .dataframe tbody tr th:only-of-type {\n        vertical-align: middle;\n    }\n\n    .dataframe tbody tr th {\n        vertical-align: top;\n    }\n\n    .dataframe thead th {\n        text-align: right;\n    }\n</style>\n<table border=\"1\" class=\"dataframe\">\n  <thead>\n    <tr style=\"text-align: right;\">\n      <th></th>\n      <th>count</th>\n      <th>mean</th>\n      <th>std</th>\n      <th>min</th>\n      <th>25%</th>\n      <th>50%</th>\n      <th>75%</th>\n      <th>max</th>\n    </tr>\n    <tr>\n      <th>department</th>\n      <th></th>\n      <th></th>\n      <th></th>\n      <th></th>\n      <th></th>\n      <th></th>\n      <th></th>\n      <th></th>\n    </tr>\n  </thead>\n  <tbody>\n    <tr>\n      <th>Analytics</th>\n      <td>2319.0</td>\n      <td>0.404053</td>\n      <td>0.490814</td>\n      <td>0.0</td>\n      <td>0.0</td>\n      <td>0.0</td>\n      <td>1.0</td>\n      <td>1.0</td>\n    </tr>\n    <tr>\n      <th>Finance</th>\n      <td>1091.0</td>\n      <td>0.396884</td>\n      <td>0.489476</td>\n      <td>0.0</td>\n      <td>0.0</td>\n      <td>0.0</td>\n      <td>1.0</td>\n      <td>1.0</td>\n    </tr>\n    <tr>\n      <th>HR</th>\n      <td>1085.0</td>\n      <td>0.349309</td>\n      <td>0.476972</td>\n      <td>0.0</td>\n      <td>0.0</td>\n      <td>0.0</td>\n      <td>1.0</td>\n      <td>1.0</td>\n    </tr>\n    <tr>\n      <th>Legal</th>\n      <td>445.0</td>\n      <td>0.341573</td>\n      <td>0.474771</td>\n      <td>0.0</td>\n      <td>0.0</td>\n      <td>0.0</td>\n      <td>1.0</td>\n      <td>1.0</td>\n    </tr>\n    <tr>\n      <th>Operations</th>\n      <td>4764.0</td>\n      <td>0.444165</td>\n      <td>0.496925</td>\n      <td>0.0</td>\n      <td>0.0</td>\n      <td>0.0</td>\n      <td>1.0</td>\n      <td>1.0</td>\n    </tr>\n    <tr>\n      <th>Procurement</th>\n      <td>3020.0</td>\n      <td>0.377483</td>\n      <td>0.484838</td>\n      <td>0.0</td>\n      <td>0.0</td>\n      <td>0.0</td>\n      <td>1.0</td>\n      <td>1.0</td>\n    </tr>\n    <tr>\n      <th>R&amp;D</th>\n      <td>440.0</td>\n      <td>0.440909</td>\n      <td>0.497061</td>\n      <td>0.0</td>\n      <td>0.0</td>\n      <td>0.0</td>\n      <td>1.0</td>\n      <td>1.0</td>\n    </tr>\n    <tr>\n      <th>Sales &amp; Marketing</th>\n      <td>7315.0</td>\n      <td>0.276418</td>\n      <td>0.447257</td>\n      <td>0.0</td>\n      <td>0.0</td>\n      <td>0.0</td>\n      <td>1.0</td>\n      <td>1.0</td>\n    </tr>\n    <tr>\n      <th>Technology</th>\n      <td>3011.0</td>\n      <td>0.350714</td>\n      <td>0.477273</td>\n      <td>0.0</td>\n      <td>0.0</td>\n      <td>0.0</td>\n      <td>1.0</td>\n      <td>1.0</td>\n    </tr>\n  </tbody>\n</table>\n</div>"
     },
     "metadata": {},
     "execution_count": 37
    }
   ],
   "source": [
    "test.groupby('department')['KPIs_met >80%'].describe()"
   ]
  },
  {
   "cell_type": "code",
   "execution_count": 38,
   "metadata": {},
   "outputs": [
    {
     "output_type": "execute_result",
     "data": {
      "text/plain": [
       "                    count      mean       std  min  25%  50%  75%   max\n",
       "education                                                              \n",
       "Bachelor's        36669.0  1.270883  0.633341  1.0  1.0  1.0  1.0  10.0\n",
       "Below Secondary     805.0  1.275776  0.621723  1.0  1.0  1.0  1.0   4.0\n",
       "Master's & above  14925.0  1.219095  0.559485  1.0  1.0  1.0  1.0  10.0\n",
       "Not Available      2409.0  1.183479  0.504507  1.0  1.0  1.0  1.0   6.0"
      ],
      "text/html": "<div>\n<style scoped>\n    .dataframe tbody tr th:only-of-type {\n        vertical-align: middle;\n    }\n\n    .dataframe tbody tr th {\n        vertical-align: top;\n    }\n\n    .dataframe thead th {\n        text-align: right;\n    }\n</style>\n<table border=\"1\" class=\"dataframe\">\n  <thead>\n    <tr style=\"text-align: right;\">\n      <th></th>\n      <th>count</th>\n      <th>mean</th>\n      <th>std</th>\n      <th>min</th>\n      <th>25%</th>\n      <th>50%</th>\n      <th>75%</th>\n      <th>max</th>\n    </tr>\n    <tr>\n      <th>education</th>\n      <th></th>\n      <th></th>\n      <th></th>\n      <th></th>\n      <th></th>\n      <th></th>\n      <th></th>\n      <th></th>\n    </tr>\n  </thead>\n  <tbody>\n    <tr>\n      <th>Bachelor's</th>\n      <td>36669.0</td>\n      <td>1.270883</td>\n      <td>0.633341</td>\n      <td>1.0</td>\n      <td>1.0</td>\n      <td>1.0</td>\n      <td>1.0</td>\n      <td>10.0</td>\n    </tr>\n    <tr>\n      <th>Below Secondary</th>\n      <td>805.0</td>\n      <td>1.275776</td>\n      <td>0.621723</td>\n      <td>1.0</td>\n      <td>1.0</td>\n      <td>1.0</td>\n      <td>1.0</td>\n      <td>4.0</td>\n    </tr>\n    <tr>\n      <th>Master's &amp; above</th>\n      <td>14925.0</td>\n      <td>1.219095</td>\n      <td>0.559485</td>\n      <td>1.0</td>\n      <td>1.0</td>\n      <td>1.0</td>\n      <td>1.0</td>\n      <td>10.0</td>\n    </tr>\n    <tr>\n      <th>Not Available</th>\n      <td>2409.0</td>\n      <td>1.183479</td>\n      <td>0.504507</td>\n      <td>1.0</td>\n      <td>1.0</td>\n      <td>1.0</td>\n      <td>1.0</td>\n      <td>6.0</td>\n    </tr>\n  </tbody>\n</table>\n</div>"
     },
     "metadata": {},
     "execution_count": 38
    }
   ],
   "source": [
    "train.groupby('education')[\"no_of_trainings\"].describe()"
   ]
  },
  {
   "cell_type": "code",
   "execution_count": 39,
   "metadata": {},
   "outputs": [
    {
     "output_type": "execute_result",
     "data": {
      "text/plain": [
       "                    count      mean       std  min  25%  50%  75%  max\n",
       "education                                                             \n",
       "Bachelor's        15578.0  1.271087  0.619917  1.0  1.0  1.0  1.0  9.0\n",
       "Below Secondary     374.0  1.294118  0.763874  1.0  1.0  1.0  1.0  8.0\n",
       "Master's & above   6504.0  1.222478  0.555552  1.0  1.0  1.0  1.0  8.0\n",
       "Not Available      1034.0  1.185687  0.496208  1.0  1.0  1.0  1.0  6.0"
      ],
      "text/html": "<div>\n<style scoped>\n    .dataframe tbody tr th:only-of-type {\n        vertical-align: middle;\n    }\n\n    .dataframe tbody tr th {\n        vertical-align: top;\n    }\n\n    .dataframe thead th {\n        text-align: right;\n    }\n</style>\n<table border=\"1\" class=\"dataframe\">\n  <thead>\n    <tr style=\"text-align: right;\">\n      <th></th>\n      <th>count</th>\n      <th>mean</th>\n      <th>std</th>\n      <th>min</th>\n      <th>25%</th>\n      <th>50%</th>\n      <th>75%</th>\n      <th>max</th>\n    </tr>\n    <tr>\n      <th>education</th>\n      <th></th>\n      <th></th>\n      <th></th>\n      <th></th>\n      <th></th>\n      <th></th>\n      <th></th>\n      <th></th>\n    </tr>\n  </thead>\n  <tbody>\n    <tr>\n      <th>Bachelor's</th>\n      <td>15578.0</td>\n      <td>1.271087</td>\n      <td>0.619917</td>\n      <td>1.0</td>\n      <td>1.0</td>\n      <td>1.0</td>\n      <td>1.0</td>\n      <td>9.0</td>\n    </tr>\n    <tr>\n      <th>Below Secondary</th>\n      <td>374.0</td>\n      <td>1.294118</td>\n      <td>0.763874</td>\n      <td>1.0</td>\n      <td>1.0</td>\n      <td>1.0</td>\n      <td>1.0</td>\n      <td>8.0</td>\n    </tr>\n    <tr>\n      <th>Master's &amp; above</th>\n      <td>6504.0</td>\n      <td>1.222478</td>\n      <td>0.555552</td>\n      <td>1.0</td>\n      <td>1.0</td>\n      <td>1.0</td>\n      <td>1.0</td>\n      <td>8.0</td>\n    </tr>\n    <tr>\n      <th>Not Available</th>\n      <td>1034.0</td>\n      <td>1.185687</td>\n      <td>0.496208</td>\n      <td>1.0</td>\n      <td>1.0</td>\n      <td>1.0</td>\n      <td>1.0</td>\n      <td>6.0</td>\n    </tr>\n  </tbody>\n</table>\n</div>"
     },
     "metadata": {},
     "execution_count": 39
    }
   ],
   "source": [
    "test.groupby('education')[\"no_of_trainings\"].describe()"
   ]
  },
  {
   "cell_type": "code",
   "execution_count": 40,
   "metadata": {},
   "outputs": [
    {
     "output_type": "execute_result",
     "data": {
      "text/plain": [
       "                    count       mean       std   min   25%   50%   75%   max\n",
       "education                                                                   \n",
       "Bachelor's        36669.0  33.445226  7.047381  20.0  29.0  32.0  36.0  60.0\n",
       "Below Secondary     805.0  23.836025  1.829266  20.0  23.0  24.0  25.0  31.0\n",
       "Master's & above  14925.0  39.352630  7.070637  20.0  34.0  38.0  43.0  60.0\n",
       "Not Available      2409.0  30.968867  7.550183  20.0  26.0  29.0  34.0  60.0"
      ],
      "text/html": "<div>\n<style scoped>\n    .dataframe tbody tr th:only-of-type {\n        vertical-align: middle;\n    }\n\n    .dataframe tbody tr th {\n        vertical-align: top;\n    }\n\n    .dataframe thead th {\n        text-align: right;\n    }\n</style>\n<table border=\"1\" class=\"dataframe\">\n  <thead>\n    <tr style=\"text-align: right;\">\n      <th></th>\n      <th>count</th>\n      <th>mean</th>\n      <th>std</th>\n      <th>min</th>\n      <th>25%</th>\n      <th>50%</th>\n      <th>75%</th>\n      <th>max</th>\n    </tr>\n    <tr>\n      <th>education</th>\n      <th></th>\n      <th></th>\n      <th></th>\n      <th></th>\n      <th></th>\n      <th></th>\n      <th></th>\n      <th></th>\n    </tr>\n  </thead>\n  <tbody>\n    <tr>\n      <th>Bachelor's</th>\n      <td>36669.0</td>\n      <td>33.445226</td>\n      <td>7.047381</td>\n      <td>20.0</td>\n      <td>29.0</td>\n      <td>32.0</td>\n      <td>36.0</td>\n      <td>60.0</td>\n    </tr>\n    <tr>\n      <th>Below Secondary</th>\n      <td>805.0</td>\n      <td>23.836025</td>\n      <td>1.829266</td>\n      <td>20.0</td>\n      <td>23.0</td>\n      <td>24.0</td>\n      <td>25.0</td>\n      <td>31.0</td>\n    </tr>\n    <tr>\n      <th>Master's &amp; above</th>\n      <td>14925.0</td>\n      <td>39.352630</td>\n      <td>7.070637</td>\n      <td>20.0</td>\n      <td>34.0</td>\n      <td>38.0</td>\n      <td>43.0</td>\n      <td>60.0</td>\n    </tr>\n    <tr>\n      <th>Not Available</th>\n      <td>2409.0</td>\n      <td>30.968867</td>\n      <td>7.550183</td>\n      <td>20.0</td>\n      <td>26.0</td>\n      <td>29.0</td>\n      <td>34.0</td>\n      <td>60.0</td>\n    </tr>\n  </tbody>\n</table>\n</div>"
     },
     "metadata": {},
     "execution_count": 40
    }
   ],
   "source": [
    "train.groupby('education')[\"age\"].describe()"
   ]
  },
  {
   "cell_type": "code",
   "execution_count": 41,
   "metadata": {},
   "outputs": [
    {
     "output_type": "execute_result",
     "data": {
      "text/plain": [
       "                    count       mean       std   min   25%   50%   75%   max\n",
       "education                                                                   \n",
       "Bachelor's        15578.0  33.406086  7.052300  20.0  29.0  32.0  36.0  60.0\n",
       "Below Secondary     374.0  23.951872  1.761316  20.0  23.0  24.0  25.0  30.0\n",
       "Master's & above   6504.0  39.340867  7.134473  20.0  34.0  38.0  43.0  60.0\n",
       "Not Available      1034.0  30.773694  7.177938  20.0  26.0  29.0  34.0  60.0"
      ],
      "text/html": "<div>\n<style scoped>\n    .dataframe tbody tr th:only-of-type {\n        vertical-align: middle;\n    }\n\n    .dataframe tbody tr th {\n        vertical-align: top;\n    }\n\n    .dataframe thead th {\n        text-align: right;\n    }\n</style>\n<table border=\"1\" class=\"dataframe\">\n  <thead>\n    <tr style=\"text-align: right;\">\n      <th></th>\n      <th>count</th>\n      <th>mean</th>\n      <th>std</th>\n      <th>min</th>\n      <th>25%</th>\n      <th>50%</th>\n      <th>75%</th>\n      <th>max</th>\n    </tr>\n    <tr>\n      <th>education</th>\n      <th></th>\n      <th></th>\n      <th></th>\n      <th></th>\n      <th></th>\n      <th></th>\n      <th></th>\n      <th></th>\n    </tr>\n  </thead>\n  <tbody>\n    <tr>\n      <th>Bachelor's</th>\n      <td>15578.0</td>\n      <td>33.406086</td>\n      <td>7.052300</td>\n      <td>20.0</td>\n      <td>29.0</td>\n      <td>32.0</td>\n      <td>36.0</td>\n      <td>60.0</td>\n    </tr>\n    <tr>\n      <th>Below Secondary</th>\n      <td>374.0</td>\n      <td>23.951872</td>\n      <td>1.761316</td>\n      <td>20.0</td>\n      <td>23.0</td>\n      <td>24.0</td>\n      <td>25.0</td>\n      <td>30.0</td>\n    </tr>\n    <tr>\n      <th>Master's &amp; above</th>\n      <td>6504.0</td>\n      <td>39.340867</td>\n      <td>7.134473</td>\n      <td>20.0</td>\n      <td>34.0</td>\n      <td>38.0</td>\n      <td>43.0</td>\n      <td>60.0</td>\n    </tr>\n    <tr>\n      <th>Not Available</th>\n      <td>1034.0</td>\n      <td>30.773694</td>\n      <td>7.177938</td>\n      <td>20.0</td>\n      <td>26.0</td>\n      <td>29.0</td>\n      <td>34.0</td>\n      <td>60.0</td>\n    </tr>\n  </tbody>\n</table>\n</div>"
     },
     "metadata": {},
     "execution_count": 41
    }
   ],
   "source": [
    "test.groupby('education')[\"age\"].describe()"
   ]
  },
  {
   "cell_type": "code",
   "execution_count": 42,
   "metadata": {},
   "outputs": [
    {
     "output_type": "execute_result",
     "data": {
      "text/plain": [
       "                    count      mean       std  min  25%  50%   75%   max\n",
       "education                                                               \n",
       "Bachelor's        36669.0  5.344542  3.892569  1.0  3.0  4.0   7.0  37.0\n",
       "Below Secondary     805.0  1.704348  0.816218  1.0  1.0  2.0   2.0   5.0\n",
       "Master's & above  14925.0  7.605293  4.725710  1.0  4.0  7.0  10.0  34.0\n",
       "Not Available      2409.0  4.407223  3.723495  1.0  2.0  3.0   6.0  32.0"
      ],
      "text/html": "<div>\n<style scoped>\n    .dataframe tbody tr th:only-of-type {\n        vertical-align: middle;\n    }\n\n    .dataframe tbody tr th {\n        vertical-align: top;\n    }\n\n    .dataframe thead th {\n        text-align: right;\n    }\n</style>\n<table border=\"1\" class=\"dataframe\">\n  <thead>\n    <tr style=\"text-align: right;\">\n      <th></th>\n      <th>count</th>\n      <th>mean</th>\n      <th>std</th>\n      <th>min</th>\n      <th>25%</th>\n      <th>50%</th>\n      <th>75%</th>\n      <th>max</th>\n    </tr>\n    <tr>\n      <th>education</th>\n      <th></th>\n      <th></th>\n      <th></th>\n      <th></th>\n      <th></th>\n      <th></th>\n      <th></th>\n      <th></th>\n    </tr>\n  </thead>\n  <tbody>\n    <tr>\n      <th>Bachelor's</th>\n      <td>36669.0</td>\n      <td>5.344542</td>\n      <td>3.892569</td>\n      <td>1.0</td>\n      <td>3.0</td>\n      <td>4.0</td>\n      <td>7.0</td>\n      <td>37.0</td>\n    </tr>\n    <tr>\n      <th>Below Secondary</th>\n      <td>805.0</td>\n      <td>1.704348</td>\n      <td>0.816218</td>\n      <td>1.0</td>\n      <td>1.0</td>\n      <td>2.0</td>\n      <td>2.0</td>\n      <td>5.0</td>\n    </tr>\n    <tr>\n      <th>Master's &amp; above</th>\n      <td>14925.0</td>\n      <td>7.605293</td>\n      <td>4.725710</td>\n      <td>1.0</td>\n      <td>4.0</td>\n      <td>7.0</td>\n      <td>10.0</td>\n      <td>34.0</td>\n    </tr>\n    <tr>\n      <th>Not Available</th>\n      <td>2409.0</td>\n      <td>4.407223</td>\n      <td>3.723495</td>\n      <td>1.0</td>\n      <td>2.0</td>\n      <td>3.0</td>\n      <td>6.0</td>\n      <td>32.0</td>\n    </tr>\n  </tbody>\n</table>\n</div>"
     },
     "metadata": {},
     "execution_count": 42
    }
   ],
   "source": [
    "train.groupby('education')[\"length_of_service\"].describe()"
   ]
  },
  {
   "cell_type": "code",
   "execution_count": 43,
   "metadata": {},
   "outputs": [
    {
     "output_type": "execute_result",
     "data": {
      "text/plain": [
       "                    count      mean       std  min  25%  50%  75%   max\n",
       "education                                                              \n",
       "Bachelor's        15578.0  5.324689  3.899684  1.0  3.0  4.0  7.0  34.0\n",
       "Below Secondary     374.0  1.754011  0.886855  1.0  1.0  2.0  2.0   5.0\n",
       "Master's & above   6504.0  7.440959  4.573041  1.0  4.0  7.0  9.0  31.0\n",
       "Not Available      1034.0  4.338491  3.597828  1.0  2.0  3.0  6.0  25.0"
      ],
      "text/html": "<div>\n<style scoped>\n    .dataframe tbody tr th:only-of-type {\n        vertical-align: middle;\n    }\n\n    .dataframe tbody tr th {\n        vertical-align: top;\n    }\n\n    .dataframe thead th {\n        text-align: right;\n    }\n</style>\n<table border=\"1\" class=\"dataframe\">\n  <thead>\n    <tr style=\"text-align: right;\">\n      <th></th>\n      <th>count</th>\n      <th>mean</th>\n      <th>std</th>\n      <th>min</th>\n      <th>25%</th>\n      <th>50%</th>\n      <th>75%</th>\n      <th>max</th>\n    </tr>\n    <tr>\n      <th>education</th>\n      <th></th>\n      <th></th>\n      <th></th>\n      <th></th>\n      <th></th>\n      <th></th>\n      <th></th>\n      <th></th>\n    </tr>\n  </thead>\n  <tbody>\n    <tr>\n      <th>Bachelor's</th>\n      <td>15578.0</td>\n      <td>5.324689</td>\n      <td>3.899684</td>\n      <td>1.0</td>\n      <td>3.0</td>\n      <td>4.0</td>\n      <td>7.0</td>\n      <td>34.0</td>\n    </tr>\n    <tr>\n      <th>Below Secondary</th>\n      <td>374.0</td>\n      <td>1.754011</td>\n      <td>0.886855</td>\n      <td>1.0</td>\n      <td>1.0</td>\n      <td>2.0</td>\n      <td>2.0</td>\n      <td>5.0</td>\n    </tr>\n    <tr>\n      <th>Master's &amp; above</th>\n      <td>6504.0</td>\n      <td>7.440959</td>\n      <td>4.573041</td>\n      <td>1.0</td>\n      <td>4.0</td>\n      <td>7.0</td>\n      <td>9.0</td>\n      <td>31.0</td>\n    </tr>\n    <tr>\n      <th>Not Available</th>\n      <td>1034.0</td>\n      <td>4.338491</td>\n      <td>3.597828</td>\n      <td>1.0</td>\n      <td>2.0</td>\n      <td>3.0</td>\n      <td>6.0</td>\n      <td>25.0</td>\n    </tr>\n  </tbody>\n</table>\n</div>"
     },
     "metadata": {},
     "execution_count": 43
    }
   ],
   "source": [
    "test.groupby('education')['length_of_service'].describe()"
   ]
  },
  {
   "cell_type": "code",
   "execution_count": 44,
   "metadata": {},
   "outputs": [
    {
     "output_type": "execute_result",
     "data": {
      "text/plain": [
       "                    count      mean       std  min  25%  50%  75%  max\n",
       "education                                                             \n",
       "Bachelor's        36669.0  3.295427  1.211948  1.0  3.0  3.0  4.0  5.0\n",
       "Below Secondary     805.0  3.280745  0.868572  1.0  3.0  3.0  4.0  5.0\n",
       "Master's & above  14925.0  3.359464  1.238252  1.0  3.0  3.0  4.0  5.0\n",
       "Not Available      2409.0  3.109589  1.186348  1.0  3.0  3.0  4.0  5.0"
      ],
      "text/html": "<div>\n<style scoped>\n    .dataframe tbody tr th:only-of-type {\n        vertical-align: middle;\n    }\n\n    .dataframe tbody tr th {\n        vertical-align: top;\n    }\n\n    .dataframe thead th {\n        text-align: right;\n    }\n</style>\n<table border=\"1\" class=\"dataframe\">\n  <thead>\n    <tr style=\"text-align: right;\">\n      <th></th>\n      <th>count</th>\n      <th>mean</th>\n      <th>std</th>\n      <th>min</th>\n      <th>25%</th>\n      <th>50%</th>\n      <th>75%</th>\n      <th>max</th>\n    </tr>\n    <tr>\n      <th>education</th>\n      <th></th>\n      <th></th>\n      <th></th>\n      <th></th>\n      <th></th>\n      <th></th>\n      <th></th>\n      <th></th>\n    </tr>\n  </thead>\n  <tbody>\n    <tr>\n      <th>Bachelor's</th>\n      <td>36669.0</td>\n      <td>3.295427</td>\n      <td>1.211948</td>\n      <td>1.0</td>\n      <td>3.0</td>\n      <td>3.0</td>\n      <td>4.0</td>\n      <td>5.0</td>\n    </tr>\n    <tr>\n      <th>Below Secondary</th>\n      <td>805.0</td>\n      <td>3.280745</td>\n      <td>0.868572</td>\n      <td>1.0</td>\n      <td>3.0</td>\n      <td>3.0</td>\n      <td>4.0</td>\n      <td>5.0</td>\n    </tr>\n    <tr>\n      <th>Master's &amp; above</th>\n      <td>14925.0</td>\n      <td>3.359464</td>\n      <td>1.238252</td>\n      <td>1.0</td>\n      <td>3.0</td>\n      <td>3.0</td>\n      <td>4.0</td>\n      <td>5.0</td>\n    </tr>\n    <tr>\n      <th>Not Available</th>\n      <td>2409.0</td>\n      <td>3.109589</td>\n      <td>1.186348</td>\n      <td>1.0</td>\n      <td>3.0</td>\n      <td>3.0</td>\n      <td>4.0</td>\n      <td>5.0</td>\n    </tr>\n  </tbody>\n</table>\n</div>"
     },
     "metadata": {},
     "execution_count": 44
    }
   ],
   "source": [
    "train.groupby('education')[\"previous_year_rating\"].describe()"
   ]
  },
  {
   "cell_type": "code",
   "execution_count": 45,
   "metadata": {},
   "outputs": [
    {
     "output_type": "execute_result",
     "data": {
      "text/plain": [
       "                    count      mean       std  min  25%  50%  75%  max\n",
       "education                                                             \n",
       "Bachelor's        15578.0  3.304725  1.215140  1.0  3.0  3.0  4.0  5.0\n",
       "Below Secondary     374.0  3.331551  0.883097  1.0  3.0  3.0  4.0  5.0\n",
       "Master's & above   6504.0  3.366544  1.242796  1.0  3.0  3.0  4.0  5.0\n",
       "Not Available      1034.0  3.093810  1.156613  1.0  3.0  3.0  4.0  5.0"
      ],
      "text/html": "<div>\n<style scoped>\n    .dataframe tbody tr th:only-of-type {\n        vertical-align: middle;\n    }\n\n    .dataframe tbody tr th {\n        vertical-align: top;\n    }\n\n    .dataframe thead th {\n        text-align: right;\n    }\n</style>\n<table border=\"1\" class=\"dataframe\">\n  <thead>\n    <tr style=\"text-align: right;\">\n      <th></th>\n      <th>count</th>\n      <th>mean</th>\n      <th>std</th>\n      <th>min</th>\n      <th>25%</th>\n      <th>50%</th>\n      <th>75%</th>\n      <th>max</th>\n    </tr>\n    <tr>\n      <th>education</th>\n      <th></th>\n      <th></th>\n      <th></th>\n      <th></th>\n      <th></th>\n      <th></th>\n      <th></th>\n      <th></th>\n    </tr>\n  </thead>\n  <tbody>\n    <tr>\n      <th>Bachelor's</th>\n      <td>15578.0</td>\n      <td>3.304725</td>\n      <td>1.215140</td>\n      <td>1.0</td>\n      <td>3.0</td>\n      <td>3.0</td>\n      <td>4.0</td>\n      <td>5.0</td>\n    </tr>\n    <tr>\n      <th>Below Secondary</th>\n      <td>374.0</td>\n      <td>3.331551</td>\n      <td>0.883097</td>\n      <td>1.0</td>\n      <td>3.0</td>\n      <td>3.0</td>\n      <td>4.0</td>\n      <td>5.0</td>\n    </tr>\n    <tr>\n      <th>Master's &amp; above</th>\n      <td>6504.0</td>\n      <td>3.366544</td>\n      <td>1.242796</td>\n      <td>1.0</td>\n      <td>3.0</td>\n      <td>3.0</td>\n      <td>4.0</td>\n      <td>5.0</td>\n    </tr>\n    <tr>\n      <th>Not Available</th>\n      <td>1034.0</td>\n      <td>3.093810</td>\n      <td>1.156613</td>\n      <td>1.0</td>\n      <td>3.0</td>\n      <td>3.0</td>\n      <td>4.0</td>\n      <td>5.0</td>\n    </tr>\n  </tbody>\n</table>\n</div>"
     },
     "metadata": {},
     "execution_count": 45
    }
   ],
   "source": [
    "test.groupby('education')[\"previous_year_rating\"].describe()"
   ]
  },
  {
   "cell_type": "code",
   "execution_count": 46,
   "metadata": {},
   "outputs": [
    {
     "output_type": "execute_result",
     "data": {
      "text/plain": [
       "                    count       mean        std   min   25%   50%   75%   max\n",
       "education                                                                    \n",
       "Bachelor's        36669.0  63.422046  13.365371  39.0  51.0  60.0  76.0  99.0\n",
       "Below Secondary     805.0  64.925466  11.249960  43.0  57.0  62.0  75.0  97.0\n",
       "Master's & above  14925.0  64.061240  13.219803  40.0  52.0  61.0  76.0  99.0\n",
       "Not Available      2409.0  58.156496  13.892265  40.0  49.0  52.0  62.0  98.0"
      ],
      "text/html": "<div>\n<style scoped>\n    .dataframe tbody tr th:only-of-type {\n        vertical-align: middle;\n    }\n\n    .dataframe tbody tr th {\n        vertical-align: top;\n    }\n\n    .dataframe thead th {\n        text-align: right;\n    }\n</style>\n<table border=\"1\" class=\"dataframe\">\n  <thead>\n    <tr style=\"text-align: right;\">\n      <th></th>\n      <th>count</th>\n      <th>mean</th>\n      <th>std</th>\n      <th>min</th>\n      <th>25%</th>\n      <th>50%</th>\n      <th>75%</th>\n      <th>max</th>\n    </tr>\n    <tr>\n      <th>education</th>\n      <th></th>\n      <th></th>\n      <th></th>\n      <th></th>\n      <th></th>\n      <th></th>\n      <th></th>\n      <th></th>\n    </tr>\n  </thead>\n  <tbody>\n    <tr>\n      <th>Bachelor's</th>\n      <td>36669.0</td>\n      <td>63.422046</td>\n      <td>13.365371</td>\n      <td>39.0</td>\n      <td>51.0</td>\n      <td>60.0</td>\n      <td>76.0</td>\n      <td>99.0</td>\n    </tr>\n    <tr>\n      <th>Below Secondary</th>\n      <td>805.0</td>\n      <td>64.925466</td>\n      <td>11.249960</td>\n      <td>43.0</td>\n      <td>57.0</td>\n      <td>62.0</td>\n      <td>75.0</td>\n      <td>97.0</td>\n    </tr>\n    <tr>\n      <th>Master's &amp; above</th>\n      <td>14925.0</td>\n      <td>64.061240</td>\n      <td>13.219803</td>\n      <td>40.0</td>\n      <td>52.0</td>\n      <td>61.0</td>\n      <td>76.0</td>\n      <td>99.0</td>\n    </tr>\n    <tr>\n      <th>Not Available</th>\n      <td>2409.0</td>\n      <td>58.156496</td>\n      <td>13.892265</td>\n      <td>40.0</td>\n      <td>49.0</td>\n      <td>52.0</td>\n      <td>62.0</td>\n      <td>98.0</td>\n    </tr>\n  </tbody>\n</table>\n</div>"
     },
     "metadata": {},
     "execution_count": 46
    }
   ],
   "source": [
    "train.groupby('education')[\"avg_training_score\"].describe()"
   ]
  },
  {
   "cell_type": "code",
   "execution_count": 47,
   "metadata": {},
   "outputs": [
    {
     "output_type": "execute_result",
     "data": {
      "text/plain": [
       "                    count       mean        std   min   25%   50%    75%   max\n",
       "education                                                                     \n",
       "Bachelor's        15578.0  63.172936  13.440785  40.0  51.0  60.0  76.00  99.0\n",
       "Below Secondary     374.0  65.422460  11.048182  43.0  58.0  62.0  74.75  93.0\n",
       "Master's & above   6504.0  64.114391  13.199512  39.0  52.0  62.0  76.00  99.0\n",
       "Not Available      1034.0  58.486460  13.994962  41.0  49.0  51.0  64.75  96.0"
      ],
      "text/html": "<div>\n<style scoped>\n    .dataframe tbody tr th:only-of-type {\n        vertical-align: middle;\n    }\n\n    .dataframe tbody tr th {\n        vertical-align: top;\n    }\n\n    .dataframe thead th {\n        text-align: right;\n    }\n</style>\n<table border=\"1\" class=\"dataframe\">\n  <thead>\n    <tr style=\"text-align: right;\">\n      <th></th>\n      <th>count</th>\n      <th>mean</th>\n      <th>std</th>\n      <th>min</th>\n      <th>25%</th>\n      <th>50%</th>\n      <th>75%</th>\n      <th>max</th>\n    </tr>\n    <tr>\n      <th>education</th>\n      <th></th>\n      <th></th>\n      <th></th>\n      <th></th>\n      <th></th>\n      <th></th>\n      <th></th>\n      <th></th>\n    </tr>\n  </thead>\n  <tbody>\n    <tr>\n      <th>Bachelor's</th>\n      <td>15578.0</td>\n      <td>63.172936</td>\n      <td>13.440785</td>\n      <td>40.0</td>\n      <td>51.0</td>\n      <td>60.0</td>\n      <td>76.00</td>\n      <td>99.0</td>\n    </tr>\n    <tr>\n      <th>Below Secondary</th>\n      <td>374.0</td>\n      <td>65.422460</td>\n      <td>11.048182</td>\n      <td>43.0</td>\n      <td>58.0</td>\n      <td>62.0</td>\n      <td>74.75</td>\n      <td>93.0</td>\n    </tr>\n    <tr>\n      <th>Master's &amp; above</th>\n      <td>6504.0</td>\n      <td>64.114391</td>\n      <td>13.199512</td>\n      <td>39.0</td>\n      <td>52.0</td>\n      <td>62.0</td>\n      <td>76.00</td>\n      <td>99.0</td>\n    </tr>\n    <tr>\n      <th>Not Available</th>\n      <td>1034.0</td>\n      <td>58.486460</td>\n      <td>13.994962</td>\n      <td>41.0</td>\n      <td>49.0</td>\n      <td>51.0</td>\n      <td>64.75</td>\n      <td>96.0</td>\n    </tr>\n  </tbody>\n</table>\n</div>"
     },
     "metadata": {},
     "execution_count": 47
    }
   ],
   "source": [
    "test.groupby('education')[\"avg_training_score\"].describe()"
   ]
  },
  {
   "cell_type": "code",
   "execution_count": 48,
   "metadata": {},
   "outputs": [
    {
     "output_type": "execute_result",
     "data": {
      "text/plain": [
       "                    count      mean       std  min  25%  50%  75%  max\n",
       "education                                                             \n",
       "Bachelor's        36669.0  0.354496  0.478367  0.0  0.0  0.0  1.0  1.0\n",
       "Below Secondary     805.0  0.400000  0.490203  0.0  0.0  0.0  1.0  1.0\n",
       "Master's & above  14925.0  0.360134  0.480055  0.0  0.0  0.0  1.0  1.0\n",
       "Not Available      2409.0  0.246990  0.431351  0.0  0.0  0.0  0.0  1.0"
      ],
      "text/html": "<div>\n<style scoped>\n    .dataframe tbody tr th:only-of-type {\n        vertical-align: middle;\n    }\n\n    .dataframe tbody tr th {\n        vertical-align: top;\n    }\n\n    .dataframe thead th {\n        text-align: right;\n    }\n</style>\n<table border=\"1\" class=\"dataframe\">\n  <thead>\n    <tr style=\"text-align: right;\">\n      <th></th>\n      <th>count</th>\n      <th>mean</th>\n      <th>std</th>\n      <th>min</th>\n      <th>25%</th>\n      <th>50%</th>\n      <th>75%</th>\n      <th>max</th>\n    </tr>\n    <tr>\n      <th>education</th>\n      <th></th>\n      <th></th>\n      <th></th>\n      <th></th>\n      <th></th>\n      <th></th>\n      <th></th>\n      <th></th>\n    </tr>\n  </thead>\n  <tbody>\n    <tr>\n      <th>Bachelor's</th>\n      <td>36669.0</td>\n      <td>0.354496</td>\n      <td>0.478367</td>\n      <td>0.0</td>\n      <td>0.0</td>\n      <td>0.0</td>\n      <td>1.0</td>\n      <td>1.0</td>\n    </tr>\n    <tr>\n      <th>Below Secondary</th>\n      <td>805.0</td>\n      <td>0.400000</td>\n      <td>0.490203</td>\n      <td>0.0</td>\n      <td>0.0</td>\n      <td>0.0</td>\n      <td>1.0</td>\n      <td>1.0</td>\n    </tr>\n    <tr>\n      <th>Master's &amp; above</th>\n      <td>14925.0</td>\n      <td>0.360134</td>\n      <td>0.480055</td>\n      <td>0.0</td>\n      <td>0.0</td>\n      <td>0.0</td>\n      <td>1.0</td>\n      <td>1.0</td>\n    </tr>\n    <tr>\n      <th>Not Available</th>\n      <td>2409.0</td>\n      <td>0.246990</td>\n      <td>0.431351</td>\n      <td>0.0</td>\n      <td>0.0</td>\n      <td>0.0</td>\n      <td>0.0</td>\n      <td>1.0</td>\n    </tr>\n  </tbody>\n</table>\n</div>"
     },
     "metadata": {},
     "execution_count": 48
    }
   ],
   "source": [
    "train.groupby('education')[\"KPIs_met >80%\"].describe()"
   ]
  },
  {
   "cell_type": "code",
   "execution_count": 49,
   "metadata": {},
   "outputs": [
    {
     "output_type": "execute_result",
     "data": {
      "text/plain": [
       "                    count      mean       std  min  25%  50%  75%  max\n",
       "education                                                             \n",
       "Bachelor's        15578.0  0.360316  0.480107  0.0  0.0  0.0  1.0  1.0\n",
       "Below Secondary     374.0  0.438503  0.496868  0.0  0.0  0.0  1.0  1.0\n",
       "Master's & above   6504.0  0.364852  0.481426  0.0  0.0  0.0  1.0  1.0\n",
       "Not Available      1034.0  0.269826  0.444084  0.0  0.0  0.0  1.0  1.0"
      ],
      "text/html": "<div>\n<style scoped>\n    .dataframe tbody tr th:only-of-type {\n        vertical-align: middle;\n    }\n\n    .dataframe tbody tr th {\n        vertical-align: top;\n    }\n\n    .dataframe thead th {\n        text-align: right;\n    }\n</style>\n<table border=\"1\" class=\"dataframe\">\n  <thead>\n    <tr style=\"text-align: right;\">\n      <th></th>\n      <th>count</th>\n      <th>mean</th>\n      <th>std</th>\n      <th>min</th>\n      <th>25%</th>\n      <th>50%</th>\n      <th>75%</th>\n      <th>max</th>\n    </tr>\n    <tr>\n      <th>education</th>\n      <th></th>\n      <th></th>\n      <th></th>\n      <th></th>\n      <th></th>\n      <th></th>\n      <th></th>\n      <th></th>\n    </tr>\n  </thead>\n  <tbody>\n    <tr>\n      <th>Bachelor's</th>\n      <td>15578.0</td>\n      <td>0.360316</td>\n      <td>0.480107</td>\n      <td>0.0</td>\n      <td>0.0</td>\n      <td>0.0</td>\n      <td>1.0</td>\n      <td>1.0</td>\n    </tr>\n    <tr>\n      <th>Below Secondary</th>\n      <td>374.0</td>\n      <td>0.438503</td>\n      <td>0.496868</td>\n      <td>0.0</td>\n      <td>0.0</td>\n      <td>0.0</td>\n      <td>1.0</td>\n      <td>1.0</td>\n    </tr>\n    <tr>\n      <th>Master's &amp; above</th>\n      <td>6504.0</td>\n      <td>0.364852</td>\n      <td>0.481426</td>\n      <td>0.0</td>\n      <td>0.0</td>\n      <td>0.0</td>\n      <td>1.0</td>\n      <td>1.0</td>\n    </tr>\n    <tr>\n      <th>Not Available</th>\n      <td>1034.0</td>\n      <td>0.269826</td>\n      <td>0.444084</td>\n      <td>0.0</td>\n      <td>0.0</td>\n      <td>0.0</td>\n      <td>1.0</td>\n      <td>1.0</td>\n    </tr>\n  </tbody>\n</table>\n</div>"
     },
     "metadata": {},
     "execution_count": 49
    }
   ],
   "source": [
    "test.groupby('education')[\"KPIs_met >80%\"].describe()"
   ]
  },
  {
   "cell_type": "code",
   "execution_count": 50,
   "metadata": {},
   "outputs": [
    {
     "output_type": "execute_result",
     "data": {
      "text/plain": [
       "      count      mean       std  min  25%  50%  75%  max\n",
       "age                                                     \n",
       "20    113.0  0.035398  0.185607  0.0  0.0  0.0  0.0  1.0\n",
       "21     98.0  0.051020  0.221171  0.0  0.0  0.0  0.0  1.0\n",
       "22    231.0  0.077922  0.268631  0.0  0.0  0.0  0.0  1.0\n",
       "23    428.0  0.079439  0.270740  0.0  0.0  0.0  0.0  1.0\n",
       "24    845.0  0.082840  0.275804  0.0  0.0  0.0  0.0  1.0\n",
       "25   1299.0  0.053118  0.224355  0.0  0.0  0.0  0.0  1.0\n",
       "26   2060.0  0.079126  0.270001  0.0  0.0  0.0  0.0  1.0\n",
       "27   2827.0  0.092324  0.289534  0.0  0.0  0.0  0.0  1.0\n",
       "28   3147.0  0.097871  0.297187  0.0  0.0  0.0  0.0  1.0\n",
       "29   3405.0  0.086344  0.280912  0.0  0.0  0.0  0.0  1.0\n",
       "30   3665.0  0.088404  0.283920  0.0  0.0  0.0  0.0  1.0\n",
       "31   3534.0  0.087719  0.282926  0.0  0.0  0.0  0.0  1.0\n",
       "32   3534.0  0.084041  0.277488  0.0  0.0  0.0  0.0  1.0\n",
       "33   3210.0  0.099377  0.299214  0.0  0.0  0.0  0.0  1.0\n",
       "34   3076.0  0.092978  0.290449  0.0  0.0  0.0  0.0  1.0\n",
       "35   2711.0  0.104390  0.305822  0.0  0.0  0.0  0.0  1.0\n",
       "36   2517.0  0.082638  0.275389  0.0  0.0  0.0  0.0  1.0\n",
       "37   2165.0  0.084988  0.278929  0.0  0.0  0.0  0.0  1.0\n",
       "38   1923.0  0.095684  0.294234  0.0  0.0  0.0  0.0  1.0\n",
       "39   1695.0  0.094985  0.293281  0.0  0.0  0.0  0.0  1.0\n",
       "40   1663.0  0.076368  0.265666  0.0  0.0  0.0  0.0  1.0\n",
       "41   1289.0  0.080683  0.272453  0.0  0.0  0.0  0.0  1.0\n",
       "42   1149.0  0.079199  0.270167  0.0  0.0  0.0  0.0  1.0\n",
       "43    992.0  0.077621  0.267709  0.0  0.0  0.0  0.0  1.0\n",
       "44    847.0  0.082645  0.275507  0.0  0.0  0.0  0.0  1.0\n",
       "45    760.0  0.063158  0.243407  0.0  0.0  0.0  0.0  1.0\n",
       "46    697.0  0.061693  0.240770  0.0  0.0  0.0  0.0  1.0\n",
       "47    557.0  0.048474  0.214959  0.0  0.0  0.0  0.0  1.0\n",
       "48    557.0  0.078995  0.269973  0.0  0.0  0.0  0.0  1.0\n",
       "49    441.0  0.074830  0.263416  0.0  0.0  0.0  0.0  1.0\n",
       "50    521.0  0.059501  0.236787  0.0  0.0  0.0  0.0  1.0\n",
       "51    389.0  0.087404  0.282789  0.0  0.0  0.0  0.0  1.0\n",
       "52    351.0  0.079772  0.271327  0.0  0.0  0.0  0.0  1.0\n",
       "53    364.0  0.038462  0.192572  0.0  0.0  0.0  0.0  1.0\n",
       "54    313.0  0.076677  0.266505  0.0  0.0  0.0  0.0  1.0\n",
       "55    294.0  0.061224  0.240150  0.0  0.0  0.0  0.0  1.0\n",
       "56    264.0  0.079545  0.271102  0.0  0.0  0.0  0.0  1.0\n",
       "57    238.0  0.021008  0.143714  0.0  0.0  0.0  0.0  1.0\n",
       "58    213.0  0.075117  0.264202  0.0  0.0  0.0  0.0  1.0\n",
       "59    209.0  0.081340  0.274012  0.0  0.0  0.0  0.0  1.0\n",
       "60    217.0  0.064516  0.246238  0.0  0.0  0.0  0.0  1.0"
      ],
      "text/html": "<div>\n<style scoped>\n    .dataframe tbody tr th:only-of-type {\n        vertical-align: middle;\n    }\n\n    .dataframe tbody tr th {\n        vertical-align: top;\n    }\n\n    .dataframe thead th {\n        text-align: right;\n    }\n</style>\n<table border=\"1\" class=\"dataframe\">\n  <thead>\n    <tr style=\"text-align: right;\">\n      <th></th>\n      <th>count</th>\n      <th>mean</th>\n      <th>std</th>\n      <th>min</th>\n      <th>25%</th>\n      <th>50%</th>\n      <th>75%</th>\n      <th>max</th>\n    </tr>\n    <tr>\n      <th>age</th>\n      <th></th>\n      <th></th>\n      <th></th>\n      <th></th>\n      <th></th>\n      <th></th>\n      <th></th>\n      <th></th>\n    </tr>\n  </thead>\n  <tbody>\n    <tr>\n      <th>20</th>\n      <td>113.0</td>\n      <td>0.035398</td>\n      <td>0.185607</td>\n      <td>0.0</td>\n      <td>0.0</td>\n      <td>0.0</td>\n      <td>0.0</td>\n      <td>1.0</td>\n    </tr>\n    <tr>\n      <th>21</th>\n      <td>98.0</td>\n      <td>0.051020</td>\n      <td>0.221171</td>\n      <td>0.0</td>\n      <td>0.0</td>\n      <td>0.0</td>\n      <td>0.0</td>\n      <td>1.0</td>\n    </tr>\n    <tr>\n      <th>22</th>\n      <td>231.0</td>\n      <td>0.077922</td>\n      <td>0.268631</td>\n      <td>0.0</td>\n      <td>0.0</td>\n      <td>0.0</td>\n      <td>0.0</td>\n      <td>1.0</td>\n    </tr>\n    <tr>\n      <th>23</th>\n      <td>428.0</td>\n      <td>0.079439</td>\n      <td>0.270740</td>\n      <td>0.0</td>\n      <td>0.0</td>\n      <td>0.0</td>\n      <td>0.0</td>\n      <td>1.0</td>\n    </tr>\n    <tr>\n      <th>24</th>\n      <td>845.0</td>\n      <td>0.082840</td>\n      <td>0.275804</td>\n      <td>0.0</td>\n      <td>0.0</td>\n      <td>0.0</td>\n      <td>0.0</td>\n      <td>1.0</td>\n    </tr>\n    <tr>\n      <th>25</th>\n      <td>1299.0</td>\n      <td>0.053118</td>\n      <td>0.224355</td>\n      <td>0.0</td>\n      <td>0.0</td>\n      <td>0.0</td>\n      <td>0.0</td>\n      <td>1.0</td>\n    </tr>\n    <tr>\n      <th>26</th>\n      <td>2060.0</td>\n      <td>0.079126</td>\n      <td>0.270001</td>\n      <td>0.0</td>\n      <td>0.0</td>\n      <td>0.0</td>\n      <td>0.0</td>\n      <td>1.0</td>\n    </tr>\n    <tr>\n      <th>27</th>\n      <td>2827.0</td>\n      <td>0.092324</td>\n      <td>0.289534</td>\n      <td>0.0</td>\n      <td>0.0</td>\n      <td>0.0</td>\n      <td>0.0</td>\n      <td>1.0</td>\n    </tr>\n    <tr>\n      <th>28</th>\n      <td>3147.0</td>\n      <td>0.097871</td>\n      <td>0.297187</td>\n      <td>0.0</td>\n      <td>0.0</td>\n      <td>0.0</td>\n      <td>0.0</td>\n      <td>1.0</td>\n    </tr>\n    <tr>\n      <th>29</th>\n      <td>3405.0</td>\n      <td>0.086344</td>\n      <td>0.280912</td>\n      <td>0.0</td>\n      <td>0.0</td>\n      <td>0.0</td>\n      <td>0.0</td>\n      <td>1.0</td>\n    </tr>\n    <tr>\n      <th>30</th>\n      <td>3665.0</td>\n      <td>0.088404</td>\n      <td>0.283920</td>\n      <td>0.0</td>\n      <td>0.0</td>\n      <td>0.0</td>\n      <td>0.0</td>\n      <td>1.0</td>\n    </tr>\n    <tr>\n      <th>31</th>\n      <td>3534.0</td>\n      <td>0.087719</td>\n      <td>0.282926</td>\n      <td>0.0</td>\n      <td>0.0</td>\n      <td>0.0</td>\n      <td>0.0</td>\n      <td>1.0</td>\n    </tr>\n    <tr>\n      <th>32</th>\n      <td>3534.0</td>\n      <td>0.084041</td>\n      <td>0.277488</td>\n      <td>0.0</td>\n      <td>0.0</td>\n      <td>0.0</td>\n      <td>0.0</td>\n      <td>1.0</td>\n    </tr>\n    <tr>\n      <th>33</th>\n      <td>3210.0</td>\n      <td>0.099377</td>\n      <td>0.299214</td>\n      <td>0.0</td>\n      <td>0.0</td>\n      <td>0.0</td>\n      <td>0.0</td>\n      <td>1.0</td>\n    </tr>\n    <tr>\n      <th>34</th>\n      <td>3076.0</td>\n      <td>0.092978</td>\n      <td>0.290449</td>\n      <td>0.0</td>\n      <td>0.0</td>\n      <td>0.0</td>\n      <td>0.0</td>\n      <td>1.0</td>\n    </tr>\n    <tr>\n      <th>35</th>\n      <td>2711.0</td>\n      <td>0.104390</td>\n      <td>0.305822</td>\n      <td>0.0</td>\n      <td>0.0</td>\n      <td>0.0</td>\n      <td>0.0</td>\n      <td>1.0</td>\n    </tr>\n    <tr>\n      <th>36</th>\n      <td>2517.0</td>\n      <td>0.082638</td>\n      <td>0.275389</td>\n      <td>0.0</td>\n      <td>0.0</td>\n      <td>0.0</td>\n      <td>0.0</td>\n      <td>1.0</td>\n    </tr>\n    <tr>\n      <th>37</th>\n      <td>2165.0</td>\n      <td>0.084988</td>\n      <td>0.278929</td>\n      <td>0.0</td>\n      <td>0.0</td>\n      <td>0.0</td>\n      <td>0.0</td>\n      <td>1.0</td>\n    </tr>\n    <tr>\n      <th>38</th>\n      <td>1923.0</td>\n      <td>0.095684</td>\n      <td>0.294234</td>\n      <td>0.0</td>\n      <td>0.0</td>\n      <td>0.0</td>\n      <td>0.0</td>\n      <td>1.0</td>\n    </tr>\n    <tr>\n      <th>39</th>\n      <td>1695.0</td>\n      <td>0.094985</td>\n      <td>0.293281</td>\n      <td>0.0</td>\n      <td>0.0</td>\n      <td>0.0</td>\n      <td>0.0</td>\n      <td>1.0</td>\n    </tr>\n    <tr>\n      <th>40</th>\n      <td>1663.0</td>\n      <td>0.076368</td>\n      <td>0.265666</td>\n      <td>0.0</td>\n      <td>0.0</td>\n      <td>0.0</td>\n      <td>0.0</td>\n      <td>1.0</td>\n    </tr>\n    <tr>\n      <th>41</th>\n      <td>1289.0</td>\n      <td>0.080683</td>\n      <td>0.272453</td>\n      <td>0.0</td>\n      <td>0.0</td>\n      <td>0.0</td>\n      <td>0.0</td>\n      <td>1.0</td>\n    </tr>\n    <tr>\n      <th>42</th>\n      <td>1149.0</td>\n      <td>0.079199</td>\n      <td>0.270167</td>\n      <td>0.0</td>\n      <td>0.0</td>\n      <td>0.0</td>\n      <td>0.0</td>\n      <td>1.0</td>\n    </tr>\n    <tr>\n      <th>43</th>\n      <td>992.0</td>\n      <td>0.077621</td>\n      <td>0.267709</td>\n      <td>0.0</td>\n      <td>0.0</td>\n      <td>0.0</td>\n      <td>0.0</td>\n      <td>1.0</td>\n    </tr>\n    <tr>\n      <th>44</th>\n      <td>847.0</td>\n      <td>0.082645</td>\n      <td>0.275507</td>\n      <td>0.0</td>\n      <td>0.0</td>\n      <td>0.0</td>\n      <td>0.0</td>\n      <td>1.0</td>\n    </tr>\n    <tr>\n      <th>45</th>\n      <td>760.0</td>\n      <td>0.063158</td>\n      <td>0.243407</td>\n      <td>0.0</td>\n      <td>0.0</td>\n      <td>0.0</td>\n      <td>0.0</td>\n      <td>1.0</td>\n    </tr>\n    <tr>\n      <th>46</th>\n      <td>697.0</td>\n      <td>0.061693</td>\n      <td>0.240770</td>\n      <td>0.0</td>\n      <td>0.0</td>\n      <td>0.0</td>\n      <td>0.0</td>\n      <td>1.0</td>\n    </tr>\n    <tr>\n      <th>47</th>\n      <td>557.0</td>\n      <td>0.048474</td>\n      <td>0.214959</td>\n      <td>0.0</td>\n      <td>0.0</td>\n      <td>0.0</td>\n      <td>0.0</td>\n      <td>1.0</td>\n    </tr>\n    <tr>\n      <th>48</th>\n      <td>557.0</td>\n      <td>0.078995</td>\n      <td>0.269973</td>\n      <td>0.0</td>\n      <td>0.0</td>\n      <td>0.0</td>\n      <td>0.0</td>\n      <td>1.0</td>\n    </tr>\n    <tr>\n      <th>49</th>\n      <td>441.0</td>\n      <td>0.074830</td>\n      <td>0.263416</td>\n      <td>0.0</td>\n      <td>0.0</td>\n      <td>0.0</td>\n      <td>0.0</td>\n      <td>1.0</td>\n    </tr>\n    <tr>\n      <th>50</th>\n      <td>521.0</td>\n      <td>0.059501</td>\n      <td>0.236787</td>\n      <td>0.0</td>\n      <td>0.0</td>\n      <td>0.0</td>\n      <td>0.0</td>\n      <td>1.0</td>\n    </tr>\n    <tr>\n      <th>51</th>\n      <td>389.0</td>\n      <td>0.087404</td>\n      <td>0.282789</td>\n      <td>0.0</td>\n      <td>0.0</td>\n      <td>0.0</td>\n      <td>0.0</td>\n      <td>1.0</td>\n    </tr>\n    <tr>\n      <th>52</th>\n      <td>351.0</td>\n      <td>0.079772</td>\n      <td>0.271327</td>\n      <td>0.0</td>\n      <td>0.0</td>\n      <td>0.0</td>\n      <td>0.0</td>\n      <td>1.0</td>\n    </tr>\n    <tr>\n      <th>53</th>\n      <td>364.0</td>\n      <td>0.038462</td>\n      <td>0.192572</td>\n      <td>0.0</td>\n      <td>0.0</td>\n      <td>0.0</td>\n      <td>0.0</td>\n      <td>1.0</td>\n    </tr>\n    <tr>\n      <th>54</th>\n      <td>313.0</td>\n      <td>0.076677</td>\n      <td>0.266505</td>\n      <td>0.0</td>\n      <td>0.0</td>\n      <td>0.0</td>\n      <td>0.0</td>\n      <td>1.0</td>\n    </tr>\n    <tr>\n      <th>55</th>\n      <td>294.0</td>\n      <td>0.061224</td>\n      <td>0.240150</td>\n      <td>0.0</td>\n      <td>0.0</td>\n      <td>0.0</td>\n      <td>0.0</td>\n      <td>1.0</td>\n    </tr>\n    <tr>\n      <th>56</th>\n      <td>264.0</td>\n      <td>0.079545</td>\n      <td>0.271102</td>\n      <td>0.0</td>\n      <td>0.0</td>\n      <td>0.0</td>\n      <td>0.0</td>\n      <td>1.0</td>\n    </tr>\n    <tr>\n      <th>57</th>\n      <td>238.0</td>\n      <td>0.021008</td>\n      <td>0.143714</td>\n      <td>0.0</td>\n      <td>0.0</td>\n      <td>0.0</td>\n      <td>0.0</td>\n      <td>1.0</td>\n    </tr>\n    <tr>\n      <th>58</th>\n      <td>213.0</td>\n      <td>0.075117</td>\n      <td>0.264202</td>\n      <td>0.0</td>\n      <td>0.0</td>\n      <td>0.0</td>\n      <td>0.0</td>\n      <td>1.0</td>\n    </tr>\n    <tr>\n      <th>59</th>\n      <td>209.0</td>\n      <td>0.081340</td>\n      <td>0.274012</td>\n      <td>0.0</td>\n      <td>0.0</td>\n      <td>0.0</td>\n      <td>0.0</td>\n      <td>1.0</td>\n    </tr>\n    <tr>\n      <th>60</th>\n      <td>217.0</td>\n      <td>0.064516</td>\n      <td>0.246238</td>\n      <td>0.0</td>\n      <td>0.0</td>\n      <td>0.0</td>\n      <td>0.0</td>\n      <td>1.0</td>\n    </tr>\n  </tbody>\n</table>\n</div>"
     },
     "metadata": {},
     "execution_count": 50
    }
   ],
   "source": [
    "train.groupby('age')['is_promoted'].describe()"
   ]
  },
  {
   "cell_type": "code",
   "execution_count": 51,
   "metadata": {},
   "outputs": [
    {
     "output_type": "execute_result",
     "data": {
      "text/plain": [
       "count                 54808\n",
       "unique                    9\n",
       "top       Sales & Marketing\n",
       "freq                  16840\n",
       "Name: department, dtype: object"
      ]
     },
     "metadata": {},
     "execution_count": 51
    }
   ],
   "source": [
    "train['department'].describe()\n"
   ]
  },
  {
   "cell_type": "code",
   "execution_count": 63,
   "metadata": {},
   "outputs": [
    {
     "output_type": "execute_result",
     "data": {
      "text/plain": [
       "count                 54808\n",
       "unique                    9\n",
       "top       Sales & Marketing\n",
       "freq                  16840\n",
       "Name: department, dtype: object"
      ]
     },
     "metadata": {},
     "execution_count": 63
    }
   ],
   "source": [
    "train['department'].describe()"
   ]
  },
  {
   "cell_type": "code",
   "execution_count": 53,
   "metadata": {},
   "outputs": [
    {
     "output_type": "execute_result",
     "data": {
      "text/plain": [
       "count          54808\n",
       "unique             4\n",
       "top       Bachelor's\n",
       "freq           36669\n",
       "Name: education, dtype: object"
      ]
     },
     "metadata": {},
     "execution_count": 53
    }
   ],
   "source": [
    "train[\"education\"].describe()"
   ]
  },
  {
   "cell_type": "code",
   "execution_count": 64,
   "metadata": {},
   "outputs": [
    {
     "output_type": "execute_result",
     "data": {
      "text/plain": [
       "count          23490\n",
       "unique             4\n",
       "top       Bachelor's\n",
       "freq           15578\n",
       "Name: education, dtype: object"
      ]
     },
     "metadata": {},
     "execution_count": 64
    }
   ],
   "source": [
    "test[\"education\"].describe()"
   ]
  },
  {
   "cell_type": "code",
   "execution_count": 54,
   "metadata": {},
   "outputs": [
    {
     "output_type": "execute_result",
     "data": {
      "text/plain": [
       "count    54808.000000\n",
       "mean        34.803915\n",
       "std          7.660169\n",
       "min         20.000000\n",
       "25%         29.000000\n",
       "50%         33.000000\n",
       "75%         39.000000\n",
       "max         60.000000\n",
       "Name: age, dtype: float64"
      ]
     },
     "metadata": {},
     "execution_count": 54
    }
   ],
   "source": [
    "train['age'].describe()"
   ]
  },
  {
   "cell_type": "code",
   "execution_count": 65,
   "metadata": {},
   "outputs": [
    {
     "output_type": "execute_result",
     "data": {
      "text/plain": [
       "count    23490.000000\n",
       "mean        34.782929\n",
       "std          7.679492\n",
       "min         20.000000\n",
       "25%         29.000000\n",
       "50%         33.000000\n",
       "75%         39.000000\n",
       "max         60.000000\n",
       "Name: age, dtype: float64"
      ]
     },
     "metadata": {},
     "execution_count": 65
    }
   ],
   "source": [
    "test['age'].describe()"
   ]
  },
  {
   "cell_type": "code",
   "execution_count": 56,
   "metadata": {},
   "outputs": [
    {
     "output_type": "execute_result",
     "data": {
      "text/plain": [
       "count    54808.000000\n",
       "mean         1.253011\n",
       "std          0.609264\n",
       "min          1.000000\n",
       "25%          1.000000\n",
       "50%          1.000000\n",
       "75%          1.000000\n",
       "max         10.000000\n",
       "Name: no_of_trainings, dtype: float64"
      ]
     },
     "metadata": {},
     "execution_count": 56
    }
   ],
   "source": [
    "train['no_of_trainings'].describe()"
   ]
  },
  {
   "cell_type": "code",
   "execution_count": 66,
   "metadata": {},
   "outputs": [
    {
     "output_type": "execute_result",
     "data": {
      "text/plain": [
       "count    23490.000000\n",
       "mean         1.254236\n",
       "std          0.600910\n",
       "min          1.000000\n",
       "25%          1.000000\n",
       "50%          1.000000\n",
       "75%          1.000000\n",
       "max          9.000000\n",
       "Name: no_of_trainings, dtype: float64"
      ]
     },
     "metadata": {},
     "execution_count": 66
    }
   ],
   "source": [
    "test['no_of_trainings'].describe()"
   ]
  },
  {
   "cell_type": "code",
   "execution_count": 57,
   "metadata": {},
   "outputs": [
    {
     "output_type": "execute_result",
     "data": {
      "text/plain": [
       "count    54808.000000\n",
       "mean         5.865512\n",
       "std          4.265094\n",
       "min          1.000000\n",
       "25%          3.000000\n",
       "50%          5.000000\n",
       "75%          7.000000\n",
       "max         37.000000\n",
       "Name: length_of_service, dtype: float64"
      ]
     },
     "metadata": {},
     "execution_count": 57
    }
   ],
   "source": [
    "train['length_of_service'].describe()"
   ]
  },
  {
   "cell_type": "code",
   "execution_count": 67,
   "metadata": {},
   "outputs": [
    {
     "output_type": "execute_result",
     "data": {
      "text/plain": [
       "count    23490.000000\n",
       "mean         5.810387\n",
       "std          4.207917\n",
       "min          1.000000\n",
       "25%          3.000000\n",
       "50%          5.000000\n",
       "75%          7.000000\n",
       "max         34.000000\n",
       "Name: length_of_service, dtype: float64"
      ]
     },
     "metadata": {},
     "execution_count": 67
    }
   ],
   "source": [
    "test['length_of_service'].describe()"
   ]
  },
  {
   "cell_type": "code",
   "execution_count": 58,
   "metadata": {},
   "outputs": [
    {
     "output_type": "execute_result",
     "data": {
      "text/plain": [
       "count    54808.000000\n",
       "mean         3.304481\n",
       "std          1.214770\n",
       "min          1.000000\n",
       "25%          3.000000\n",
       "50%          3.000000\n",
       "75%          4.000000\n",
       "max          5.000000\n",
       "Name: previous_year_rating, dtype: float64"
      ]
     },
     "metadata": {},
     "execution_count": 58
    }
   ],
   "source": [
    "train['previous_year_rating'].describe()"
   ]
  },
  {
   "cell_type": "code",
   "execution_count": 68,
   "metadata": {},
   "outputs": [
    {
     "output_type": "execute_result",
     "data": {
      "text/plain": [
       "count    23490.000000\n",
       "mean         3.312984\n",
       "std          1.216959\n",
       "min          1.000000\n",
       "25%          3.000000\n",
       "50%          3.000000\n",
       "75%          4.000000\n",
       "max          5.000000\n",
       "Name: previous_year_rating, dtype: float64"
      ]
     },
     "metadata": {},
     "execution_count": 68
    }
   ],
   "source": [
    "test['previous_year_rating'].describe()"
   ]
  },
  {
   "cell_type": "code",
   "execution_count": 59,
   "metadata": {},
   "outputs": [
    {
     "output_type": "execute_result",
     "data": {
      "text/plain": [
       "count    54808.000000\n",
       "mean        63.386750\n",
       "std         13.371559\n",
       "min         39.000000\n",
       "25%         51.000000\n",
       "50%         60.000000\n",
       "75%         76.000000\n",
       "max         99.000000\n",
       "Name: avg_training_score, dtype: float64"
      ]
     },
     "metadata": {},
     "execution_count": 59
    }
   ],
   "source": [
    "train['avg_training_score'].describe()"
   ]
  },
  {
   "cell_type": "code",
   "execution_count": 69,
   "metadata": {},
   "outputs": [
    {
     "output_type": "execute_result",
     "data": {
      "text/plain": [
       "count    23490.000000\n",
       "mean        63.263133\n",
       "std         13.411750\n",
       "min         39.000000\n",
       "25%         51.000000\n",
       "50%         60.000000\n",
       "75%         76.000000\n",
       "max         99.000000\n",
       "Name: avg_training_score, dtype: float64"
      ]
     },
     "metadata": {},
     "execution_count": 69
    }
   ],
   "source": [
    "test['avg_training_score'].describe()"
   ]
  },
  {
   "cell_type": "code",
   "execution_count": 60,
   "metadata": {},
   "outputs": [
    {
     "output_type": "execute_result",
     "data": {
      "text/plain": [
       "count    54808.000000\n",
       "mean         0.351974\n",
       "std          0.477590\n",
       "min          0.000000\n",
       "25%          0.000000\n",
       "50%          0.000000\n",
       "75%          1.000000\n",
       "max          1.000000\n",
       "Name: KPIs_met >80%, dtype: float64"
      ]
     },
     "metadata": {},
     "execution_count": 60
    }
   ],
   "source": [
    "train['KPIs_met >80%'].describe()"
   ]
  },
  {
   "cell_type": "code",
   "execution_count": 70,
   "metadata": {},
   "outputs": [
    {
     "output_type": "execute_result",
     "data": {
      "text/plain": [
       "count    23490.000000\n",
       "mean         0.358834\n",
       "std          0.479668\n",
       "min          0.000000\n",
       "25%          0.000000\n",
       "50%          0.000000\n",
       "75%          1.000000\n",
       "max          1.000000\n",
       "Name: KPIs_met >80%, dtype: float64"
      ]
     },
     "metadata": {},
     "execution_count": 70
    }
   ],
   "source": [
    "test['KPIs_met >80%'].describe()"
   ]
  },
  {
   "cell_type": "code",
   "execution_count": 61,
   "metadata": {},
   "outputs": [],
   "source": [
    "def findBand(age):\n",
    "    if age <=29:\n",
    "        return 1\n",
    "    elif age>29 and age<=33:\n",
    "        return 2\n",
    "    elif age>33 and age<=39:\n",
    "        return 3\n",
    "    else:\n",
    "        return 4\n",
    "train['band'] = train['age'].apply(findBand)\n",
    "test['band'] = test['age'].apply(findBand)"
   ]
  },
  {
   "cell_type": "code",
   "execution_count": 71,
   "metadata": {},
   "outputs": [
    {
     "output_type": "execute_result",
     "data": {
      "text/plain": [
       "                    department     region         education gender  \\\n",
       "employee_id                                                          \n",
       "65438        Sales & Marketing   region_7  Master's & above      f   \n",
       "65141               Operations  region_22        Bachelor's      m   \n",
       "7513         Sales & Marketing  region_19        Bachelor's      m   \n",
       "2542         Sales & Marketing  region_23        Bachelor's      m   \n",
       "48945               Technology  region_26        Bachelor's      m   \n",
       "\n",
       "            recruitment_channel  no_of_trainings  age  previous_year_rating  \\\n",
       "employee_id                                                                   \n",
       "65438                  sourcing                1   35                   5.0   \n",
       "65141                     other                1   30                   5.0   \n",
       "7513                   sourcing                1   34                   3.0   \n",
       "2542                      other                2   39                   1.0   \n",
       "48945                     other                1   45                   3.0   \n",
       "\n",
       "             length_of_service  KPIs_met >80%  awards_won?  \\\n",
       "employee_id                                                  \n",
       "65438                        8              1            0   \n",
       "65141                        4              0            0   \n",
       "7513                         7              0            0   \n",
       "2542                        10              0            0   \n",
       "48945                        2              0            0   \n",
       "\n",
       "             avg_training_score  is_promoted  band  \n",
       "employee_id                                         \n",
       "65438                        49            0     3  \n",
       "65141                        60            0     2  \n",
       "7513                         50            0     3  \n",
       "2542                         50            0     3  \n",
       "48945                        73            0     4  "
      ],
      "text/html": "<div>\n<style scoped>\n    .dataframe tbody tr th:only-of-type {\n        vertical-align: middle;\n    }\n\n    .dataframe tbody tr th {\n        vertical-align: top;\n    }\n\n    .dataframe thead th {\n        text-align: right;\n    }\n</style>\n<table border=\"1\" class=\"dataframe\">\n  <thead>\n    <tr style=\"text-align: right;\">\n      <th></th>\n      <th>department</th>\n      <th>region</th>\n      <th>education</th>\n      <th>gender</th>\n      <th>recruitment_channel</th>\n      <th>no_of_trainings</th>\n      <th>age</th>\n      <th>previous_year_rating</th>\n      <th>length_of_service</th>\n      <th>KPIs_met &gt;80%</th>\n      <th>awards_won?</th>\n      <th>avg_training_score</th>\n      <th>is_promoted</th>\n      <th>band</th>\n    </tr>\n    <tr>\n      <th>employee_id</th>\n      <th></th>\n      <th></th>\n      <th></th>\n      <th></th>\n      <th></th>\n      <th></th>\n      <th></th>\n      <th></th>\n      <th></th>\n      <th></th>\n      <th></th>\n      <th></th>\n      <th></th>\n      <th></th>\n    </tr>\n  </thead>\n  <tbody>\n    <tr>\n      <th>65438</th>\n      <td>Sales &amp; Marketing</td>\n      <td>region_7</td>\n      <td>Master's &amp; above</td>\n      <td>f</td>\n      <td>sourcing</td>\n      <td>1</td>\n      <td>35</td>\n      <td>5.0</td>\n      <td>8</td>\n      <td>1</td>\n      <td>0</td>\n      <td>49</td>\n      <td>0</td>\n      <td>3</td>\n    </tr>\n    <tr>\n      <th>65141</th>\n      <td>Operations</td>\n      <td>region_22</td>\n      <td>Bachelor's</td>\n      <td>m</td>\n      <td>other</td>\n      <td>1</td>\n      <td>30</td>\n      <td>5.0</td>\n      <td>4</td>\n      <td>0</td>\n      <td>0</td>\n      <td>60</td>\n      <td>0</td>\n      <td>2</td>\n    </tr>\n    <tr>\n      <th>7513</th>\n      <td>Sales &amp; Marketing</td>\n      <td>region_19</td>\n      <td>Bachelor's</td>\n      <td>m</td>\n      <td>sourcing</td>\n      <td>1</td>\n      <td>34</td>\n      <td>3.0</td>\n      <td>7</td>\n      <td>0</td>\n      <td>0</td>\n      <td>50</td>\n      <td>0</td>\n      <td>3</td>\n    </tr>\n    <tr>\n      <th>2542</th>\n      <td>Sales &amp; Marketing</td>\n      <td>region_23</td>\n      <td>Bachelor's</td>\n      <td>m</td>\n      <td>other</td>\n      <td>2</td>\n      <td>39</td>\n      <td>1.0</td>\n      <td>10</td>\n      <td>0</td>\n      <td>0</td>\n      <td>50</td>\n      <td>0</td>\n      <td>3</td>\n    </tr>\n    <tr>\n      <th>48945</th>\n      <td>Technology</td>\n      <td>region_26</td>\n      <td>Bachelor's</td>\n      <td>m</td>\n      <td>other</td>\n      <td>1</td>\n      <td>45</td>\n      <td>3.0</td>\n      <td>2</td>\n      <td>0</td>\n      <td>0</td>\n      <td>73</td>\n      <td>0</td>\n      <td>4</td>\n    </tr>\n  </tbody>\n</table>\n</div>"
     },
     "metadata": {},
     "execution_count": 71
    }
   ],
   "source": [
    "train.head()"
   ]
  },
  {
   "cell_type": "code",
   "execution_count": 72,
   "metadata": {},
   "outputs": [
    {
     "output_type": "execute_result",
     "data": {
      "text/plain": [
       "                    department     region   education gender  \\\n",
       "employee_id                                                    \n",
       "8724                Technology  region_26  Bachelor's      m   \n",
       "74430                       HR   region_4  Bachelor's      f   \n",
       "72255        Sales & Marketing  region_13  Bachelor's      m   \n",
       "38562              Procurement   region_2  Bachelor's      f   \n",
       "64486                  Finance  region_29  Bachelor's      m   \n",
       "\n",
       "            recruitment_channel  no_of_trainings  age  previous_year_rating  \\\n",
       "employee_id                                                                   \n",
       "8724                   sourcing                1   24                   3.0   \n",
       "74430                     other                1   31                   3.0   \n",
       "72255                     other                1   31                   1.0   \n",
       "38562                     other                3   31                   2.0   \n",
       "64486                  sourcing                1   30                   4.0   \n",
       "\n",
       "             length_of_service  KPIs_met >80%  awards_won?  \\\n",
       "employee_id                                                  \n",
       "8724                         1              1            0   \n",
       "74430                        5              0            0   \n",
       "72255                        4              0            0   \n",
       "38562                        9              0            0   \n",
       "64486                        7              0            0   \n",
       "\n",
       "             avg_training_score  band  \n",
       "employee_id                            \n",
       "8724                         77     1  \n",
       "74430                        51     2  \n",
       "72255                        47     2  \n",
       "38562                        65     2  \n",
       "64486                        61     2  "
      ],
      "text/html": "<div>\n<style scoped>\n    .dataframe tbody tr th:only-of-type {\n        vertical-align: middle;\n    }\n\n    .dataframe tbody tr th {\n        vertical-align: top;\n    }\n\n    .dataframe thead th {\n        text-align: right;\n    }\n</style>\n<table border=\"1\" class=\"dataframe\">\n  <thead>\n    <tr style=\"text-align: right;\">\n      <th></th>\n      <th>department</th>\n      <th>region</th>\n      <th>education</th>\n      <th>gender</th>\n      <th>recruitment_channel</th>\n      <th>no_of_trainings</th>\n      <th>age</th>\n      <th>previous_year_rating</th>\n      <th>length_of_service</th>\n      <th>KPIs_met &gt;80%</th>\n      <th>awards_won?</th>\n      <th>avg_training_score</th>\n      <th>band</th>\n    </tr>\n    <tr>\n      <th>employee_id</th>\n      <th></th>\n      <th></th>\n      <th></th>\n      <th></th>\n      <th></th>\n      <th></th>\n      <th></th>\n      <th></th>\n      <th></th>\n      <th></th>\n      <th></th>\n      <th></th>\n      <th></th>\n    </tr>\n  </thead>\n  <tbody>\n    <tr>\n      <th>8724</th>\n      <td>Technology</td>\n      <td>region_26</td>\n      <td>Bachelor's</td>\n      <td>m</td>\n      <td>sourcing</td>\n      <td>1</td>\n      <td>24</td>\n      <td>3.0</td>\n      <td>1</td>\n      <td>1</td>\n      <td>0</td>\n      <td>77</td>\n      <td>1</td>\n    </tr>\n    <tr>\n      <th>74430</th>\n      <td>HR</td>\n      <td>region_4</td>\n      <td>Bachelor's</td>\n      <td>f</td>\n      <td>other</td>\n      <td>1</td>\n      <td>31</td>\n      <td>3.0</td>\n      <td>5</td>\n      <td>0</td>\n      <td>0</td>\n      <td>51</td>\n      <td>2</td>\n    </tr>\n    <tr>\n      <th>72255</th>\n      <td>Sales &amp; Marketing</td>\n      <td>region_13</td>\n      <td>Bachelor's</td>\n      <td>m</td>\n      <td>other</td>\n      <td>1</td>\n      <td>31</td>\n      <td>1.0</td>\n      <td>4</td>\n      <td>0</td>\n      <td>0</td>\n      <td>47</td>\n      <td>2</td>\n    </tr>\n    <tr>\n      <th>38562</th>\n      <td>Procurement</td>\n      <td>region_2</td>\n      <td>Bachelor's</td>\n      <td>f</td>\n      <td>other</td>\n      <td>3</td>\n      <td>31</td>\n      <td>2.0</td>\n      <td>9</td>\n      <td>0</td>\n      <td>0</td>\n      <td>65</td>\n      <td>2</td>\n    </tr>\n    <tr>\n      <th>64486</th>\n      <td>Finance</td>\n      <td>region_29</td>\n      <td>Bachelor's</td>\n      <td>m</td>\n      <td>sourcing</td>\n      <td>1</td>\n      <td>30</td>\n      <td>4.0</td>\n      <td>7</td>\n      <td>0</td>\n      <td>0</td>\n      <td>61</td>\n      <td>2</td>\n    </tr>\n  </tbody>\n</table>\n</div>"
     },
     "metadata": {},
     "execution_count": 72
    }
   ],
   "source": [
    "test.head()"
   ]
  },
  {
   "cell_type": "code",
   "execution_count": null,
   "metadata": {},
   "outputs": [],
   "source": []
  }
 ]
}